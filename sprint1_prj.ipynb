{
  "nbformat": 4,
  "nbformat_minor": 0,
  "metadata": {
    "kernelspec": {
      "display_name": "Python 3",
      "language": "python",
      "name": "python3"
    },
    "language_info": {
      "codemirror_mode": {
        "name": "ipython",
        "version": 3
      },
      "file_extension": ".py",
      "mimetype": "text/x-python",
      "name": "python",
      "nbconvert_exporter": "python",
      "pygments_lexer": "ipython3",
      "version": "3.7.6"
    },
    "colab": {
      "name": "sprint1_prj.ipynb",
      "provenance": [],
      "toc_visible": true,
      "history_visible": true,
      "include_colab_link": true
    },
    "accelerator": "GPU"
  },
  "cells": [
    {
      "cell_type": "markdown",
      "metadata": {
        "id": "view-in-github",
        "colab_type": "text"
      },
      "source": [
        "<a href=\"https://colab.research.google.com/github/ilya-myas/python-random-quote/blob/master/sprint1_prj.ipynb\" target=\"_parent\"><img src=\"https://colab.research.google.com/assets/colab-badge.svg\" alt=\"Open In Colab\"/></a>"
      ]
    },
    {
      "cell_type": "markdown",
      "metadata": {
        "id": "eepS-_eTsN09"
      },
      "source": [
        "<div style=\"border:solid green 2px; padding: 20px\"> <h1 style=\"color:green; margin-bottom:20px\">Комментарий ревьюера</h1>\n",
        "\n",
        "Привет! Меня зовут Сысоева Вера.\n",
        "    \n",
        "Далее в файле мои комментарии ты сможешь найти в ячейках, аналогичных данной ( если рамки комментария зелёные - всё сделано правильно; жёлтые - есть замечания, но не критично; красные - нужно переделать). Не удаляй эти комментарии и постарайся учесть их в ходе выполнения проекта.\n",
        "    \n",
        "Я буду поддерживать версионность комментариев, и при следующих итерациях комментарии будут выделены, как \"Комментраии ревьюера - 2 (3 и.т.д.)\"\n",
        "    \n",
        "Если у тебя есть замечания, возражения и вопросы, ты можешь писать свои комментарии, по возможности выделяй их так же цветом (например, синим), чтоб их можно было легко отделить от текста проекта. \n",
        "    \n",
        "Кстати, предлагаю сразу общаться на \"ты\".\n",
        "    \n",
        "Увидев у тебя ошибку, в первый раз я лишь укажу на ее наличие и дам тебе возможность самой найти и исправить ее. На реальной работе твой начальник будет поступать так же, а я пытаюсь подготовить тебя именно к работе аналитиком. Но если ты пока не справишься с такой задачей - при следующей проверке я дам более точную подсказку.\n",
        "\n",
        "## Исследование надёжности заёмщиков\n",
        "\n",
        "Заказчик — кредитный отдел банка. Нужно разобраться, влияет ли семейное положение и количество детей клиента на факт погашения кредита в срок. Входные данные от банка — статистика о платёжеспособности клиентов.\n",
        "\n",
        "Результаты исследования будут учтены при построении модели **кредитного скоринга** — специальной системы, которая оценивает способность потенциального заёмщика вернуть кредит банку.\n",
        "\n",
        "<div style=\"border:solid green 2px; padding: 20px\"> <h1 style=\"color:green; margin-bottom:20px\">Комментарий ревьюера</h1>\n",
        "\n",
        "Описание целей и задач проекта важно, не забывай про это в следующих проектах, где не будет такого подробного шаблона. План проекта тоже очень важен.\n",
        "    \n",
        "Также удобно вначале следать интерактивное оглавление.\n",
        "    \n",
        "Само оглавление делаешь по такому типу:  \n",
        "1. [Шаг 1. Откроем файл с данными и изучим общую информацию](#step1)  \n",
        "2. [Шаг 2](#step2)  \n",
        "\n",
        "А в заголовках оставляешь метки вот так:  \n",
        "### Шаг 1. Откроем файл с данными и изучим общую информацию <a id=\"step1\"></a>   \n",
        "    \n",
        "    \n",
        "    \n",
        "Это сильно повышает привлекательность проекта.\n",
        "</div>"
      ]
    },
    {
      "cell_type": "markdown",
      "metadata": {
        "id": "Yrqqesh-sN1C"
      },
      "source": [
        "### Содержание проекта <a id=\"step0\"></a>\n",
        "\n",
        "1. [Шаг 1. Откроем файл с данными и изучим общую информацию](#step1)  \n",
        "2. [Шаг 2. Выполним предварительную обработку данных](#step2)  \n",
        "2.1. [Обработаем пропуски](#step3)  \n",
        "2.2. [Заменим тип данных](#step4)  \n",
        "2.3. [Обработаем дубликаты](#step5)  \n",
        "2.4. [Лемматизируем цели](#step6)  \n",
        "2.5. [Категоризируем данные](#step7)  \n",
        "3. [Шаг 3. Проанализируем интересующие нас данные и ответим на вопросы](#step8)  \n",
        "4. [Шаг 4. Общий вывод](#step9)  "
      ]
    },
    {
      "cell_type": "markdown",
      "metadata": {
        "id": "CTWSDUkzsN1C"
      },
      "source": [
        "### Шаг 1. Откроем файл с данными и изучим общую информацию <a id=\"step1\"></a>"
      ]
    },
    {
      "cell_type": "code",
      "metadata": {
        "scrolled": true,
        "id": "BjnAdaifsN1D",
        "colab": {
          "resources": {
            "http://localhost:8080/nbextensions/google.colab/files.js": {
              "data": "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",
              "ok": true,
              "headers": [
                [
                  "content-type",
                  "application/javascript"
                ]
              ],
              "status": 200,
              "status_text": ""
            }
          },
          "base_uri": "https://localhost:8080/",
          "height": 72
        },
        "outputId": "898938d5-b371-4715-c4e3-dc5c0d22da11"
      },
      "source": [
        "from google.colab import files\n",
        "uploaded = files.upload()\n"
      ],
      "execution_count": null,
      "outputs": [
        {
          "output_type": "display_data",
          "data": {
            "text/html": [
              "\n",
              "     <input type=\"file\" id=\"files-d08d4a8a-f8c2-4a7d-a79a-6791e2861bc5\" name=\"files[]\" multiple disabled\n",
              "        style=\"border:none\" />\n",
              "     <output id=\"result-d08d4a8a-f8c2-4a7d-a79a-6791e2861bc5\">\n",
              "      Upload widget is only available when the cell has been executed in the\n",
              "      current browser session. Please rerun this cell to enable.\n",
              "      </output>\n",
              "      <script src=\"/nbextensions/google.colab/files.js\"></script> "
            ],
            "text/plain": [
              "<IPython.core.display.HTML object>"
            ]
          },
          "metadata": {
            "tags": []
          }
        },
        {
          "output_type": "stream",
          "text": [
            "Saving data.csv to data.csv\n"
          ],
          "name": "stdout"
        }
      ]
    },
    {
      "cell_type": "code",
      "metadata": {
        "id": "jl036dESjrMz"
      },
      "source": [
        "import pandas as pd\r\n",
        "from nltk.stem import SnowballStemmer \r\n",
        "russian_stemmer = SnowballStemmer('russian')\r\n",
        "from pymystem3 import Mystem\r\n",
        "m = Mystem() \r\n",
        "from collections import Counter\r\n",
        "#from google.colab import files\r\n",
        "#uploaded = files.upload()\r\n",
        "data = pd.read_csv('data.csv')\r\n",
        "#загрузили файли в датафрейм, теперь будем изучать его."
      ],
      "execution_count": null,
      "outputs": []
    },
    {
      "cell_type": "code",
      "metadata": {
        "colab": {
          "base_uri": "https://localhost:8080/"
        },
        "id": "3O2Y-zPJsN1D",
        "outputId": "fe363870-b95f-4d85-d9f7-bbc99060f885"
      },
      "source": [
        "data.info()#посмотрим общую информацио о данных."
      ],
      "execution_count": null,
      "outputs": [
        {
          "output_type": "stream",
          "text": [
            "<class 'pandas.core.frame.DataFrame'>\n",
            "RangeIndex: 21525 entries, 0 to 21524\n",
            "Data columns (total 12 columns):\n",
            " #   Column            Non-Null Count  Dtype  \n",
            "---  ------            --------------  -----  \n",
            " 0   children          21525 non-null  int64  \n",
            " 1   days_employed     19351 non-null  float64\n",
            " 2   dob_years         21525 non-null  int64  \n",
            " 3   education         21525 non-null  object \n",
            " 4   education_id      21525 non-null  int64  \n",
            " 5   family_status     21525 non-null  object \n",
            " 6   family_status_id  21525 non-null  int64  \n",
            " 7   gender            21525 non-null  object \n",
            " 8   income_type       21525 non-null  object \n",
            " 9   debt              21525 non-null  int64  \n",
            " 10  total_income      19351 non-null  float64\n",
            " 11  purpose           21525 non-null  object \n",
            "dtypes: float64(2), int64(5), object(5)\n",
            "memory usage: 2.0+ MB\n"
          ],
          "name": "stdout"
        }
      ]
    },
    {
      "cell_type": "code",
      "metadata": {
        "colab": {
          "base_uri": "https://localhost:8080/",
          "height": 359
        },
        "id": "7-yETwHYsN1E",
        "outputId": "a034fd2e-74a6-4fde-f649-c5b973e9edfc"
      },
      "source": [
        "data.head(10)#посмотрим первые 10 строк."
      ],
      "execution_count": null,
      "outputs": [
        {
          "output_type": "execute_result",
          "data": {
            "text/html": [
              "<div>\n",
              "<style scoped>\n",
              "    .dataframe tbody tr th:only-of-type {\n",
              "        vertical-align: middle;\n",
              "    }\n",
              "\n",
              "    .dataframe tbody tr th {\n",
              "        vertical-align: top;\n",
              "    }\n",
              "\n",
              "    .dataframe thead th {\n",
              "        text-align: right;\n",
              "    }\n",
              "</style>\n",
              "<table border=\"1\" class=\"dataframe\">\n",
              "  <thead>\n",
              "    <tr style=\"text-align: right;\">\n",
              "      <th></th>\n",
              "      <th>children</th>\n",
              "      <th>days_employed</th>\n",
              "      <th>dob_years</th>\n",
              "      <th>education</th>\n",
              "      <th>education_id</th>\n",
              "      <th>family_status</th>\n",
              "      <th>family_status_id</th>\n",
              "      <th>gender</th>\n",
              "      <th>income_type</th>\n",
              "      <th>debt</th>\n",
              "      <th>total_income</th>\n",
              "      <th>purpose</th>\n",
              "    </tr>\n",
              "  </thead>\n",
              "  <tbody>\n",
              "    <tr>\n",
              "      <th>0</th>\n",
              "      <td>1</td>\n",
              "      <td>-8437.673028</td>\n",
              "      <td>42</td>\n",
              "      <td>высшее</td>\n",
              "      <td>0</td>\n",
              "      <td>женат / замужем</td>\n",
              "      <td>0</td>\n",
              "      <td>F</td>\n",
              "      <td>сотрудник</td>\n",
              "      <td>0</td>\n",
              "      <td>253875.639453</td>\n",
              "      <td>покупка жилья</td>\n",
              "    </tr>\n",
              "    <tr>\n",
              "      <th>1</th>\n",
              "      <td>1</td>\n",
              "      <td>-4024.803754</td>\n",
              "      <td>36</td>\n",
              "      <td>среднее</td>\n",
              "      <td>1</td>\n",
              "      <td>женат / замужем</td>\n",
              "      <td>0</td>\n",
              "      <td>F</td>\n",
              "      <td>сотрудник</td>\n",
              "      <td>0</td>\n",
              "      <td>112080.014102</td>\n",
              "      <td>приобретение автомобиля</td>\n",
              "    </tr>\n",
              "    <tr>\n",
              "      <th>2</th>\n",
              "      <td>0</td>\n",
              "      <td>-5623.422610</td>\n",
              "      <td>33</td>\n",
              "      <td>Среднее</td>\n",
              "      <td>1</td>\n",
              "      <td>женат / замужем</td>\n",
              "      <td>0</td>\n",
              "      <td>M</td>\n",
              "      <td>сотрудник</td>\n",
              "      <td>0</td>\n",
              "      <td>145885.952297</td>\n",
              "      <td>покупка жилья</td>\n",
              "    </tr>\n",
              "    <tr>\n",
              "      <th>3</th>\n",
              "      <td>3</td>\n",
              "      <td>-4124.747207</td>\n",
              "      <td>32</td>\n",
              "      <td>среднее</td>\n",
              "      <td>1</td>\n",
              "      <td>женат / замужем</td>\n",
              "      <td>0</td>\n",
              "      <td>M</td>\n",
              "      <td>сотрудник</td>\n",
              "      <td>0</td>\n",
              "      <td>267628.550329</td>\n",
              "      <td>дополнительное образование</td>\n",
              "    </tr>\n",
              "    <tr>\n",
              "      <th>4</th>\n",
              "      <td>0</td>\n",
              "      <td>340266.072047</td>\n",
              "      <td>53</td>\n",
              "      <td>среднее</td>\n",
              "      <td>1</td>\n",
              "      <td>гражданский брак</td>\n",
              "      <td>1</td>\n",
              "      <td>F</td>\n",
              "      <td>пенсионер</td>\n",
              "      <td>0</td>\n",
              "      <td>158616.077870</td>\n",
              "      <td>сыграть свадьбу</td>\n",
              "    </tr>\n",
              "    <tr>\n",
              "      <th>5</th>\n",
              "      <td>0</td>\n",
              "      <td>-926.185831</td>\n",
              "      <td>27</td>\n",
              "      <td>высшее</td>\n",
              "      <td>0</td>\n",
              "      <td>гражданский брак</td>\n",
              "      <td>1</td>\n",
              "      <td>M</td>\n",
              "      <td>компаньон</td>\n",
              "      <td>0</td>\n",
              "      <td>255763.565419</td>\n",
              "      <td>покупка жилья</td>\n",
              "    </tr>\n",
              "    <tr>\n",
              "      <th>6</th>\n",
              "      <td>0</td>\n",
              "      <td>-2879.202052</td>\n",
              "      <td>43</td>\n",
              "      <td>высшее</td>\n",
              "      <td>0</td>\n",
              "      <td>женат / замужем</td>\n",
              "      <td>0</td>\n",
              "      <td>F</td>\n",
              "      <td>компаньон</td>\n",
              "      <td>0</td>\n",
              "      <td>240525.971920</td>\n",
              "      <td>операции с жильем</td>\n",
              "    </tr>\n",
              "    <tr>\n",
              "      <th>7</th>\n",
              "      <td>0</td>\n",
              "      <td>-152.779569</td>\n",
              "      <td>50</td>\n",
              "      <td>СРЕДНЕЕ</td>\n",
              "      <td>1</td>\n",
              "      <td>женат / замужем</td>\n",
              "      <td>0</td>\n",
              "      <td>M</td>\n",
              "      <td>сотрудник</td>\n",
              "      <td>0</td>\n",
              "      <td>135823.934197</td>\n",
              "      <td>образование</td>\n",
              "    </tr>\n",
              "    <tr>\n",
              "      <th>8</th>\n",
              "      <td>2</td>\n",
              "      <td>-6929.865299</td>\n",
              "      <td>35</td>\n",
              "      <td>ВЫСШЕЕ</td>\n",
              "      <td>0</td>\n",
              "      <td>гражданский брак</td>\n",
              "      <td>1</td>\n",
              "      <td>F</td>\n",
              "      <td>сотрудник</td>\n",
              "      <td>0</td>\n",
              "      <td>95856.832424</td>\n",
              "      <td>на проведение свадьбы</td>\n",
              "    </tr>\n",
              "    <tr>\n",
              "      <th>9</th>\n",
              "      <td>0</td>\n",
              "      <td>-2188.756445</td>\n",
              "      <td>41</td>\n",
              "      <td>среднее</td>\n",
              "      <td>1</td>\n",
              "      <td>женат / замужем</td>\n",
              "      <td>0</td>\n",
              "      <td>M</td>\n",
              "      <td>сотрудник</td>\n",
              "      <td>0</td>\n",
              "      <td>144425.938277</td>\n",
              "      <td>покупка жилья для семьи</td>\n",
              "    </tr>\n",
              "  </tbody>\n",
              "</table>\n",
              "</div>"
            ],
            "text/plain": [
              "   children  days_employed  ...   total_income                     purpose\n",
              "0         1   -8437.673028  ...  253875.639453               покупка жилья\n",
              "1         1   -4024.803754  ...  112080.014102     приобретение автомобиля\n",
              "2         0   -5623.422610  ...  145885.952297               покупка жилья\n",
              "3         3   -4124.747207  ...  267628.550329  дополнительное образование\n",
              "4         0  340266.072047  ...  158616.077870             сыграть свадьбу\n",
              "5         0    -926.185831  ...  255763.565419               покупка жилья\n",
              "6         0   -2879.202052  ...  240525.971920           операции с жильем\n",
              "7         0    -152.779569  ...  135823.934197                 образование\n",
              "8         2   -6929.865299  ...   95856.832424       на проведение свадьбы\n",
              "9         0   -2188.756445  ...  144425.938277     покупка жилья для семьи\n",
              "\n",
              "[10 rows x 12 columns]"
            ]
          },
          "metadata": {
            "tags": []
          },
          "execution_count": 7
        }
      ]
    },
    {
      "cell_type": "code",
      "metadata": {
        "colab": {
          "base_uri": "https://localhost:8080/"
        },
        "id": "I0zbUBV8sN1E",
        "outputId": "ced01133-d02f-450e-a453-5a08814bee4a"
      },
      "source": [
        "data.columns#проверим отсутствие лишних пробелов в названии столбцов."
      ],
      "execution_count": null,
      "outputs": [
        {
          "output_type": "execute_result",
          "data": {
            "text/plain": [
              "Index(['children', 'days_employed', 'dob_years', 'education', 'education_id',\n",
              "       'family_status', 'family_status_id', 'gender', 'income_type', 'debt',\n",
              "       'total_income', 'purpose'],\n",
              "      dtype='object')"
            ]
          },
          "metadata": {
            "tags": []
          },
          "execution_count": 8
        }
      ]
    },
    {
      "cell_type": "code",
      "metadata": {
        "colab": {
          "base_uri": "https://localhost:8080/"
        },
        "id": "pYZBUhM5sN1F",
        "outputId": "f33bc0f2-5318-4955-fd44-7e8b43c53d63"
      },
      "source": [
        "data.isnull().sum()#узнаем сколько нулевах значений в столбцах."
      ],
      "execution_count": null,
      "outputs": [
        {
          "output_type": "execute_result",
          "data": {
            "text/plain": [
              "children               0\n",
              "days_employed       2174\n",
              "dob_years              0\n",
              "education              0\n",
              "education_id           0\n",
              "family_status          0\n",
              "family_status_id       0\n",
              "gender                 0\n",
              "income_type            0\n",
              "debt                   0\n",
              "total_income        2174\n",
              "purpose                0\n",
              "dtype: int64"
            ]
          },
          "metadata": {
            "tags": []
          },
          "execution_count": 9
        }
      ]
    },
    {
      "cell_type": "code",
      "metadata": {
        "colab": {
          "base_uri": "https://localhost:8080/"
        },
        "id": "FkDmFb2NsN1F",
        "outputId": "861124ed-e211-4d79-b383-fc0c7e418fef"
      },
      "source": [
        "#children_list = data['children'].unique()#Проверим сколько детей бывает у заёмщиков.\n",
        "#children_list\n",
        "data['children'].value_counts()"
      ],
      "execution_count": null,
      "outputs": [
        {
          "output_type": "execute_result",
          "data": {
            "text/plain": [
              " 0     14149\n",
              " 1      4818\n",
              " 2      2055\n",
              " 3       330\n",
              " 20       76\n",
              "-1        47\n",
              " 4        41\n",
              " 5         9\n",
              "Name: children, dtype: int64"
            ]
          },
          "metadata": {
            "tags": []
          },
          "execution_count": 10
        }
      ]
    },
    {
      "cell_type": "code",
      "metadata": {
        "colab": {
          "base_uri": "https://localhost:8080/"
        },
        "id": "sYSL5T0IsN1F",
        "outputId": "6c201082-7304-4868-e47f-01d948e11727"
      },
      "source": [
        "#dob_years_list = data['dob_years'].unique()#Проверим есть ли неправильно заполненные данные о возрасте.\n",
        "#dob_years_list\n",
        "data['dob_years'].value_counts()"
      ],
      "execution_count": null,
      "outputs": [
        {
          "output_type": "execute_result",
          "data": {
            "text/plain": [
              "35    617\n",
              "40    609\n",
              "41    607\n",
              "34    603\n",
              "38    598\n",
              "42    597\n",
              "33    581\n",
              "39    573\n",
              "31    560\n",
              "36    555\n",
              "44    547\n",
              "29    545\n",
              "30    540\n",
              "48    538\n",
              "37    537\n",
              "50    514\n",
              "43    513\n",
              "32    510\n",
              "49    508\n",
              "28    503\n",
              "45    497\n",
              "27    493\n",
              "56    487\n",
              "52    484\n",
              "47    480\n",
              "54    479\n",
              "46    475\n",
              "58    461\n",
              "57    460\n",
              "53    459\n",
              "51    448\n",
              "59    444\n",
              "55    443\n",
              "26    408\n",
              "60    377\n",
              "25    357\n",
              "61    355\n",
              "62    352\n",
              "63    269\n",
              "64    265\n",
              "24    264\n",
              "23    254\n",
              "65    194\n",
              "66    183\n",
              "22    183\n",
              "67    167\n",
              "21    111\n",
              "0     101\n",
              "68     99\n",
              "69     85\n",
              "70     65\n",
              "71     58\n",
              "20     51\n",
              "72     33\n",
              "19     14\n",
              "73      8\n",
              "74      6\n",
              "75      1\n",
              "Name: dob_years, dtype: int64"
            ]
          },
          "metadata": {
            "tags": []
          },
          "execution_count": 11
        }
      ]
    },
    {
      "cell_type": "code",
      "metadata": {
        "colab": {
          "base_uri": "https://localhost:8080/"
        },
        "id": "emXi4EBksN1G",
        "outputId": "0171964a-c3f7-4eb5-f56a-9618e3c39451"
      },
      "source": [
        "#education_list = data['education'].unique()#Проверим образование у заёмщиков.\n",
        "#education_list\n",
        "data['education'].value_counts()"
      ],
      "execution_count": null,
      "outputs": [
        {
          "output_type": "execute_result",
          "data": {
            "text/plain": [
              "среднее                13750\n",
              "высшее                  4718\n",
              "СРЕДНЕЕ                  772\n",
              "Среднее                  711\n",
              "неоконченное высшее      668\n",
              "ВЫСШЕЕ                   274\n",
              "Высшее                   268\n",
              "начальное                250\n",
              "Неоконченное высшее       47\n",
              "НЕОКОНЧЕННОЕ ВЫСШЕЕ       29\n",
              "НАЧАЛЬНОЕ                 17\n",
              "Начальное                 15\n",
              "ученая степень             4\n",
              "УЧЕНАЯ СТЕПЕНЬ             1\n",
              "Ученая степень             1\n",
              "Name: education, dtype: int64"
            ]
          },
          "metadata": {
            "tags": []
          },
          "execution_count": 12
        }
      ]
    },
    {
      "cell_type": "code",
      "metadata": {
        "colab": {
          "base_uri": "https://localhost:8080/"
        },
        "id": "c48UD_WRsN1G",
        "outputId": "dd26e3a2-8e50-4ff1-85e0-611a4fe90fa8"
      },
      "source": [
        "#gender_list = data['gender'].unique()#Проверим пол.\n",
        "#gender_list\n",
        "data['gender'].value_counts()"
      ],
      "execution_count": null,
      "outputs": [
        {
          "output_type": "execute_result",
          "data": {
            "text/plain": [
              "F      14236\n",
              "M       7288\n",
              "XNA        1\n",
              "Name: gender, dtype: int64"
            ]
          },
          "metadata": {
            "tags": []
          },
          "execution_count": 13
        }
      ]
    },
    {
      "cell_type": "code",
      "metadata": {
        "colab": {
          "base_uri": "https://localhost:8080/"
        },
        "id": "ROAhigjdsN1G",
        "outputId": "2b175134-741b-4810-e7e0-25ec9391ac2d"
      },
      "source": [
        "#family_status_list = data['family_status'].unique()#Проверим семейное положение.\n",
        "#family_status_list\n",
        "data['family_status'].value_counts()"
      ],
      "execution_count": null,
      "outputs": [
        {
          "output_type": "execute_result",
          "data": {
            "text/plain": [
              "женат / замужем          12380\n",
              "гражданский брак          4177\n",
              "Не женат / не замужем     2813\n",
              "в разводе                 1195\n",
              "вдовец / вдова             960\n",
              "Name: family_status, dtype: int64"
            ]
          },
          "metadata": {
            "tags": []
          },
          "execution_count": 14
        }
      ]
    },
    {
      "cell_type": "code",
      "metadata": {
        "colab": {
          "base_uri": "https://localhost:8080/"
        },
        "id": "1gLlKW3asN1G",
        "outputId": "c920aeec-92e0-460a-a125-60fcf5b11c6d"
      },
      "source": [
        "#income_type_list = data['income_type'].unique()#Проверим кем работают заёмщики.\n",
        "#income_type_list\n",
        "data['income_type'].value_counts()"
      ],
      "execution_count": null,
      "outputs": [
        {
          "output_type": "execute_result",
          "data": {
            "text/plain": [
              "сотрудник          11119\n",
              "компаньон           5085\n",
              "пенсионер           3856\n",
              "госслужащий         1459\n",
              "предприниматель        2\n",
              "безработный            2\n",
              "в декрете              1\n",
              "студент                1\n",
              "Name: income_type, dtype: int64"
            ]
          },
          "metadata": {
            "tags": []
          },
          "execution_count": 15
        }
      ]
    },
    {
      "cell_type": "code",
      "metadata": {
        "colab": {
          "base_uri": "https://localhost:8080/"
        },
        "id": "ASQ8Pb2lsN1H",
        "outputId": "98423f93-8ab6-490a-b2d9-149933c806ba"
      },
      "source": [
        "#debt_list = data['debt'].unique()#Проверим есть ли ошибки в графе задолжностей.\n",
        "#debt_list\n",
        "data['debt'].value_counts()"
      ],
      "execution_count": null,
      "outputs": [
        {
          "output_type": "execute_result",
          "data": {
            "text/plain": [
              "0    19784\n",
              "1     1741\n",
              "Name: debt, dtype: int64"
            ]
          },
          "metadata": {
            "tags": []
          },
          "execution_count": 16
        }
      ]
    },
    {
      "cell_type": "code",
      "metadata": {
        "colab": {
          "base_uri": "https://localhost:8080/"
        },
        "id": "QJqTFGaFsN1H",
        "outputId": "f9e4d672-fd4c-480f-e41d-077b517bf2a6"
      },
      "source": [
        "#purpose_list = data['purpose'].unique()#Узнаем на какие цели были взяты кредиты.\n",
        "#purpose_list\n",
        "data['purpose'].value_counts()"
      ],
      "execution_count": null,
      "outputs": [
        {
          "output_type": "execute_result",
          "data": {
            "text/plain": [
              "свадьба                                   797\n",
              "на проведение свадьбы                     777\n",
              "сыграть свадьбу                           774\n",
              "операции с недвижимостью                  676\n",
              "покупка коммерческой недвижимости         664\n",
              "операции с жильем                         653\n",
              "покупка жилья для сдачи                   653\n",
              "операции с коммерческой недвижимостью     651\n",
              "жилье                                     647\n",
              "покупка жилья                             647\n",
              "покупка жилья для семьи                   641\n",
              "строительство собственной недвижимости    635\n",
              "недвижимость                              634\n",
              "операции со своей недвижимостью           630\n",
              "строительство жилой недвижимости          626\n",
              "покупка недвижимости                      624\n",
              "покупка своего жилья                      620\n",
              "строительство недвижимости                620\n",
              "ремонт жилью                              612\n",
              "покупка жилой недвижимости                607\n",
              "на покупку своего автомобиля              505\n",
              "заняться высшим образованием              496\n",
              "автомобиль                                495\n",
              "сделка с подержанным автомобилем          489\n",
              "свой автомобиль                           480\n",
              "на покупку подержанного автомобиля        479\n",
              "автомобили                                478\n",
              "на покупку автомобиля                     472\n",
              "приобретение автомобиля                   462\n",
              "дополнительное образование                462\n",
              "сделка с автомобилем                      455\n",
              "высшее образование                        453\n",
              "образование                               447\n",
              "получение дополнительного образования     447\n",
              "получение образования                     443\n",
              "профильное образование                    436\n",
              "получение высшего образования             426\n",
              "заняться образованием                     412\n",
              "Name: purpose, dtype: int64"
            ]
          },
          "metadata": {
            "tags": []
          },
          "execution_count": 17
        }
      ]
    },
    {
      "cell_type": "code",
      "metadata": {
        "colab": {
          "base_uri": "https://localhost:8080/"
        },
        "id": "Wi0mgQc4sN1H",
        "outputId": "226ff7a1-3e63-4172-fa5f-0e8d202f18e8"
      },
      "source": [
        "data.duplicated().sum()#Проверим какое количество дублированных записей"
      ],
      "execution_count": null,
      "outputs": [
        {
          "output_type": "execute_result",
          "data": {
            "text/plain": [
              "54"
            ]
          },
          "metadata": {
            "tags": []
          },
          "execution_count": 18
        }
      ]
    },
    {
      "cell_type": "markdown",
      "metadata": {
        "id": "Lgiqg3NvsN1H"
      },
      "source": [
        "Просмотр дубликатов <a id=\"step10\"></a>"
      ]
    },
    {
      "cell_type": "code",
      "metadata": {
        "colab": {
          "base_uri": "https://localhost:8080/",
          "height": 419
        },
        "id": "wvz-JNWKsN1I",
        "outputId": "43f60ff2-a22c-40ab-cc00-d8a9bacff27f"
      },
      "source": [
        "data_dub = data[data.duplicated(keep = False)]#Просмотрим эти дублированные записи\n",
        "data_dub.sort_values(by=['children', 'dob_years', 'education', 'family_status', 'gender', 'income_type', 'debt', 'purpose'])"
      ],
      "execution_count": null,
      "outputs": [
        {
          "output_type": "execute_result",
          "data": {
            "text/html": [
              "<div>\n",
              "<style scoped>\n",
              "    .dataframe tbody tr th:only-of-type {\n",
              "        vertical-align: middle;\n",
              "    }\n",
              "\n",
              "    .dataframe tbody tr th {\n",
              "        vertical-align: top;\n",
              "    }\n",
              "\n",
              "    .dataframe thead th {\n",
              "        text-align: right;\n",
              "    }\n",
              "</style>\n",
              "<table border=\"1\" class=\"dataframe\">\n",
              "  <thead>\n",
              "    <tr style=\"text-align: right;\">\n",
              "      <th></th>\n",
              "      <th>children</th>\n",
              "      <th>days_employed</th>\n",
              "      <th>dob_years</th>\n",
              "      <th>education</th>\n",
              "      <th>education_id</th>\n",
              "      <th>family_status</th>\n",
              "      <th>family_status_id</th>\n",
              "      <th>gender</th>\n",
              "      <th>income_type</th>\n",
              "      <th>debt</th>\n",
              "      <th>total_income</th>\n",
              "      <th>purpose</th>\n",
              "    </tr>\n",
              "  </thead>\n",
              "  <tbody>\n",
              "    <tr>\n",
              "      <th>15892</th>\n",
              "      <td>0</td>\n",
              "      <td>NaN</td>\n",
              "      <td>23</td>\n",
              "      <td>среднее</td>\n",
              "      <td>1</td>\n",
              "      <td>Не женат / не замужем</td>\n",
              "      <td>4</td>\n",
              "      <td>F</td>\n",
              "      <td>сотрудник</td>\n",
              "      <td>0</td>\n",
              "      <td>NaN</td>\n",
              "      <td>сделка с подержанным автомобилем</td>\n",
              "    </tr>\n",
              "    <tr>\n",
              "      <th>19321</th>\n",
              "      <td>0</td>\n",
              "      <td>NaN</td>\n",
              "      <td>23</td>\n",
              "      <td>среднее</td>\n",
              "      <td>1</td>\n",
              "      <td>Не женат / не замужем</td>\n",
              "      <td>4</td>\n",
              "      <td>F</td>\n",
              "      <td>сотрудник</td>\n",
              "      <td>0</td>\n",
              "      <td>NaN</td>\n",
              "      <td>сделка с подержанным автомобилем</td>\n",
              "    </tr>\n",
              "    <tr>\n",
              "      <th>3452</th>\n",
              "      <td>0</td>\n",
              "      <td>NaN</td>\n",
              "      <td>29</td>\n",
              "      <td>высшее</td>\n",
              "      <td>0</td>\n",
              "      <td>женат / замужем</td>\n",
              "      <td>0</td>\n",
              "      <td>M</td>\n",
              "      <td>сотрудник</td>\n",
              "      <td>0</td>\n",
              "      <td>NaN</td>\n",
              "      <td>покупка жилой недвижимости</td>\n",
              "    </tr>\n",
              "    <tr>\n",
              "      <th>18328</th>\n",
              "      <td>0</td>\n",
              "      <td>NaN</td>\n",
              "      <td>29</td>\n",
              "      <td>высшее</td>\n",
              "      <td>0</td>\n",
              "      <td>женат / замужем</td>\n",
              "      <td>0</td>\n",
              "      <td>M</td>\n",
              "      <td>сотрудник</td>\n",
              "      <td>0</td>\n",
              "      <td>NaN</td>\n",
              "      <td>покупка жилой недвижимости</td>\n",
              "    </tr>\n",
              "    <tr>\n",
              "      <th>520</th>\n",
              "      <td>0</td>\n",
              "      <td>NaN</td>\n",
              "      <td>35</td>\n",
              "      <td>среднее</td>\n",
              "      <td>1</td>\n",
              "      <td>гражданский брак</td>\n",
              "      <td>1</td>\n",
              "      <td>F</td>\n",
              "      <td>сотрудник</td>\n",
              "      <td>0</td>\n",
              "      <td>NaN</td>\n",
              "      <td>сыграть свадьбу</td>\n",
              "    </tr>\n",
              "    <tr>\n",
              "      <th>...</th>\n",
              "      <td>...</td>\n",
              "      <td>...</td>\n",
              "      <td>...</td>\n",
              "      <td>...</td>\n",
              "      <td>...</td>\n",
              "      <td>...</td>\n",
              "      <td>...</td>\n",
              "      <td>...</td>\n",
              "      <td>...</td>\n",
              "      <td>...</td>\n",
              "      <td>...</td>\n",
              "      <td>...</td>\n",
              "    </tr>\n",
              "    <tr>\n",
              "      <th>9238</th>\n",
              "      <td>2</td>\n",
              "      <td>NaN</td>\n",
              "      <td>34</td>\n",
              "      <td>среднее</td>\n",
              "      <td>1</td>\n",
              "      <td>женат / замужем</td>\n",
              "      <td>0</td>\n",
              "      <td>F</td>\n",
              "      <td>сотрудник</td>\n",
              "      <td>0</td>\n",
              "      <td>NaN</td>\n",
              "      <td>покупка жилья для сдачи</td>\n",
              "    </tr>\n",
              "    <tr>\n",
              "      <th>9013</th>\n",
              "      <td>2</td>\n",
              "      <td>NaN</td>\n",
              "      <td>36</td>\n",
              "      <td>высшее</td>\n",
              "      <td>0</td>\n",
              "      <td>женат / замужем</td>\n",
              "      <td>0</td>\n",
              "      <td>F</td>\n",
              "      <td>госслужащий</td>\n",
              "      <td>0</td>\n",
              "      <td>NaN</td>\n",
              "      <td>получение образования</td>\n",
              "    </tr>\n",
              "    <tr>\n",
              "      <th>14432</th>\n",
              "      <td>2</td>\n",
              "      <td>NaN</td>\n",
              "      <td>36</td>\n",
              "      <td>высшее</td>\n",
              "      <td>0</td>\n",
              "      <td>женат / замужем</td>\n",
              "      <td>0</td>\n",
              "      <td>F</td>\n",
              "      <td>госслужащий</td>\n",
              "      <td>0</td>\n",
              "      <td>NaN</td>\n",
              "      <td>получение образования</td>\n",
              "    </tr>\n",
              "    <tr>\n",
              "      <th>11033</th>\n",
              "      <td>2</td>\n",
              "      <td>NaN</td>\n",
              "      <td>39</td>\n",
              "      <td>среднее</td>\n",
              "      <td>1</td>\n",
              "      <td>гражданский брак</td>\n",
              "      <td>1</td>\n",
              "      <td>F</td>\n",
              "      <td>сотрудник</td>\n",
              "      <td>0</td>\n",
              "      <td>NaN</td>\n",
              "      <td>сыграть свадьбу</td>\n",
              "    </tr>\n",
              "    <tr>\n",
              "      <th>16902</th>\n",
              "      <td>2</td>\n",
              "      <td>NaN</td>\n",
              "      <td>39</td>\n",
              "      <td>среднее</td>\n",
              "      <td>1</td>\n",
              "      <td>гражданский брак</td>\n",
              "      <td>1</td>\n",
              "      <td>F</td>\n",
              "      <td>сотрудник</td>\n",
              "      <td>0</td>\n",
              "      <td>NaN</td>\n",
              "      <td>сыграть свадьбу</td>\n",
              "    </tr>\n",
              "  </tbody>\n",
              "</table>\n",
              "<p>106 rows × 12 columns</p>\n",
              "</div>"
            ],
            "text/plain": [
              "       children  days_employed  ...  total_income                           purpose\n",
              "15892         0            NaN  ...           NaN  сделка с подержанным автомобилем\n",
              "19321         0            NaN  ...           NaN  сделка с подержанным автомобилем\n",
              "3452          0            NaN  ...           NaN        покупка жилой недвижимости\n",
              "18328         0            NaN  ...           NaN        покупка жилой недвижимости\n",
              "520           0            NaN  ...           NaN                   сыграть свадьбу\n",
              "...         ...            ...  ...           ...                               ...\n",
              "9238          2            NaN  ...           NaN           покупка жилья для сдачи\n",
              "9013          2            NaN  ...           NaN             получение образования\n",
              "14432         2            NaN  ...           NaN             получение образования\n",
              "11033         2            NaN  ...           NaN                   сыграть свадьбу\n",
              "16902         2            NaN  ...           NaN                   сыграть свадьбу\n",
              "\n",
              "[106 rows x 12 columns]"
            ]
          },
          "metadata": {
            "tags": []
          },
          "execution_count": 19
        }
      ]
    },
    {
      "cell_type": "markdown",
      "metadata": {
        "id": "GxVx0xvqsN1I"
      },
      "source": [
        "### Вывод"
      ]
    },
    {
      "cell_type": "markdown",
      "metadata": {
        "id": "klmf2EpvsN1I"
      },
      "source": [
        "Открыли файл, изучили его, выявили следующие неприятные моменты:\n",
        "1. Много заёмщиков без указанного трудового стажа. Формат записи так же не понятен, похоже на то, что часть стажа записана днями и часть часами. Так как эти данные не критичны, заполним ячейки стажа без записи 0.\n",
        "2. В столбце образование надо привести записи к единому регистру.\n",
        "3. Интересная информация - есть отрицательное количество детей и 20 детей. Надо в дальнейшем будет проверить эти записи.\n",
        "4. Есть заёмщики с возрастом 0 лет. В дальнейшем исправим их.\n",
        "5. Есть заёмщики без пола. В дальнейшем исправим их.\n",
        "6. Много заёмщиков без указанного дохода. В дальнейшем запишем среднее значение дохода для каждой категории заёмщиков.\n",
        "7. Очень много похожих целей, но с разными вариантами написания. В дальнейшем приведём их единому виду. \n",
        "8. Есть дублированные данные в таблице. Далее их удалим, так как их количество не критично.\n",
        "\n",
        "<div style=\"border:solid green 2px; padding: 20px\"> <h1 style=\"color:green; margin-bottom:20px\">Комментарий ревьюера</h1>\n",
        "\n",
        "Молодец, ты отлично, очень подробно рассмотрел сырые данные. Здорово, что ты так подробно все описал, отличный план на предобработку получился.\n",
        "</div>"
      ]
    },
    {
      "cell_type": "markdown",
      "metadata": {
        "id": "ZnfVNdRysN1I"
      },
      "source": [
        "### [Содержание](#step0) "
      ]
    },
    {
      "cell_type": "markdown",
      "metadata": {
        "id": "RaaPzDI2sN1I"
      },
      "source": [
        "### Шаг 2. Выполним предварительную обработку данных <a id=\"step2\"></a>"
      ]
    },
    {
      "cell_type": "markdown",
      "metadata": {
        "id": "ZKThKfFMsN1J"
      },
      "source": [
        "### Обработаем пропуски <a id=\"step3\"></a>"
      ]
    },
    {
      "cell_type": "code",
      "metadata": {
        "colab": {
          "base_uri": "https://localhost:8080/"
        },
        "id": "0EvhBMX-sN1J",
        "outputId": "201f2ffe-37fc-4ca2-b995-1d2f32a0b760"
      },
      "source": [
        "#children_20 = data.loc[data['children'] == 20]\n",
        "#children_20\n",
        "data['children'] = data['children'].abs()#.Считаем что -1 ошибка ввода, заменим на 1\n",
        "data['children'] = data.replace(to_replace = 20, value = 2, regex = True) #Считаем, что 20 это ошибка ввода, заменим на 2\n",
        "#data.loc[data['children'] == 20] = 2 #\n",
        "#data.loc[data['children'] = 2  \n",
        "children_counts = data['children'].value_counts() #Проверим результат\n",
        "children_counts"
      ],
      "execution_count": null,
      "outputs": [
        {
          "output_type": "execute_result",
          "data": {
            "text/plain": [
              "0    14149\n",
              "1     4865\n",
              "2     2131\n",
              "3      330\n",
              "4       41\n",
              "5        9\n",
              "Name: children, dtype: int64"
            ]
          },
          "metadata": {
            "tags": []
          },
          "execution_count": 20
        }
      ]
    },
    {
      "cell_type": "code",
      "metadata": {
        "colab": {
          "base_uri": "https://localhost:8080/"
        },
        "id": "OrzbHWLusN1J",
        "outputId": "69b4614b-0193-46e5-87e8-210ca2a37d68"
      },
      "source": [
        "data['days_employed'] = data['days_employed'].fillna(0)#Заполняем ячейки стажа без записи 0.\n",
        "data['days_employed'] = data['days_employed'].abs()#Избавляемся от отрицательных значений\n",
        "data.isnull().sum()"
      ],
      "execution_count": null,
      "outputs": [
        {
          "output_type": "execute_result",
          "data": {
            "text/plain": [
              "children               0\n",
              "days_employed          0\n",
              "dob_years              0\n",
              "education              0\n",
              "education_id           0\n",
              "family_status          0\n",
              "family_status_id       0\n",
              "gender                 0\n",
              "income_type            0\n",
              "debt                   0\n",
              "total_income        2174\n",
              "purpose                0\n",
              "dtype: int64"
            ]
          },
          "metadata": {
            "tags": []
          },
          "execution_count": 21
        }
      ]
    },
    {
      "cell_type": "code",
      "metadata": {
        "colab": {
          "base_uri": "https://localhost:8080/"
        },
        "id": "CucSGYbesN1J",
        "outputId": "abbfb5fe-b18e-412d-ea10-8dec805b442d"
      },
      "source": [
        "dob_years_mean = int(data['dob_years'].mean()) #Вычислим средний возраст и округлим его до целого значения\n",
        "#dob_years_mean\n",
        "data['dob_years'] = data['dob_years'].replace(to_replace = 0, value = dob_years_mean, regex = True)#Заменим 0-ой возраст на среднее занчение.\n",
        "dob_years_counts = data['dob_years'].value_counts()\n",
        "dob_years_counts"
      ],
      "execution_count": null,
      "outputs": [
        {
          "output_type": "execute_result",
          "data": {
            "text/plain": [
              "35    617\n",
              "43    614\n",
              "40    609\n",
              "41    607\n",
              "34    603\n",
              "38    598\n",
              "42    597\n",
              "33    581\n",
              "39    573\n",
              "31    560\n",
              "36    555\n",
              "44    547\n",
              "29    545\n",
              "30    540\n",
              "48    538\n",
              "37    537\n",
              "50    514\n",
              "32    510\n",
              "49    508\n",
              "28    503\n",
              "45    497\n",
              "27    493\n",
              "56    487\n",
              "52    484\n",
              "47    480\n",
              "54    479\n",
              "46    475\n",
              "58    461\n",
              "57    460\n",
              "53    459\n",
              "51    448\n",
              "59    444\n",
              "55    443\n",
              "26    408\n",
              "60    377\n",
              "25    357\n",
              "61    355\n",
              "62    352\n",
              "63    269\n",
              "64    265\n",
              "24    264\n",
              "23    254\n",
              "65    194\n",
              "66    183\n",
              "22    183\n",
              "67    167\n",
              "21    111\n",
              "68     99\n",
              "69     85\n",
              "70     65\n",
              "71     58\n",
              "20     51\n",
              "72     33\n",
              "19     14\n",
              "73      8\n",
              "74      6\n",
              "75      1\n",
              "Name: dob_years, dtype: int64"
            ]
          },
          "metadata": {
            "tags": []
          },
          "execution_count": 22
        }
      ]
    },
    {
      "cell_type": "code",
      "metadata": {
        "colab": {
          "base_uri": "https://localhost:8080/"
        },
        "id": "ZQ1PmxKtsN1J",
        "outputId": "7adb30a6-d47b-41a5-b5ce-152866a1ebfb"
      },
      "source": [
        "for column in ['education','family_status' , 'income_type', 'purpose']:#Приведём все строковые столбцы к единому регистру.\n",
        "    data[column] = data[column].str.lower()\n",
        "data.head(10)"
      ],
      "execution_count": null,
      "outputs": [
        {
          "output_type": "execute_result",
          "data": {
            "text/html": [
              "<div>\n",
              "<style scoped>\n",
              "    .dataframe tbody tr th:only-of-type {\n",
              "        vertical-align: middle;\n",
              "    }\n",
              "\n",
              "    .dataframe tbody tr th {\n",
              "        vertical-align: top;\n",
              "    }\n",
              "\n",
              "    .dataframe thead th {\n",
              "        text-align: right;\n",
              "    }\n",
              "</style>\n",
              "<table border=\"1\" class=\"dataframe\">\n",
              "  <thead>\n",
              "    <tr style=\"text-align: right;\">\n",
              "      <th></th>\n",
              "      <th>children</th>\n",
              "      <th>days_employed</th>\n",
              "      <th>dob_years</th>\n",
              "      <th>education</th>\n",
              "      <th>education_id</th>\n",
              "      <th>family_status</th>\n",
              "      <th>family_status_id</th>\n",
              "      <th>gender</th>\n",
              "      <th>income_type</th>\n",
              "      <th>debt</th>\n",
              "      <th>total_income</th>\n",
              "      <th>purpose</th>\n",
              "    </tr>\n",
              "  </thead>\n",
              "  <tbody>\n",
              "    <tr>\n",
              "      <th>0</th>\n",
              "      <td>1</td>\n",
              "      <td>8437.673028</td>\n",
              "      <td>42</td>\n",
              "      <td>высшее</td>\n",
              "      <td>0</td>\n",
              "      <td>женат / замужем</td>\n",
              "      <td>0</td>\n",
              "      <td>F</td>\n",
              "      <td>сотрудник</td>\n",
              "      <td>0</td>\n",
              "      <td>253875.639453</td>\n",
              "      <td>покупка жилья</td>\n",
              "    </tr>\n",
              "    <tr>\n",
              "      <th>1</th>\n",
              "      <td>1</td>\n",
              "      <td>4024.803754</td>\n",
              "      <td>36</td>\n",
              "      <td>среднее</td>\n",
              "      <td>1</td>\n",
              "      <td>женат / замужем</td>\n",
              "      <td>0</td>\n",
              "      <td>F</td>\n",
              "      <td>сотрудник</td>\n",
              "      <td>0</td>\n",
              "      <td>112080.014102</td>\n",
              "      <td>приобретение автомобиля</td>\n",
              "    </tr>\n",
              "    <tr>\n",
              "      <th>2</th>\n",
              "      <td>0</td>\n",
              "      <td>5623.422610</td>\n",
              "      <td>33</td>\n",
              "      <td>среднее</td>\n",
              "      <td>1</td>\n",
              "      <td>женат / замужем</td>\n",
              "      <td>0</td>\n",
              "      <td>M</td>\n",
              "      <td>сотрудник</td>\n",
              "      <td>0</td>\n",
              "      <td>145885.952297</td>\n",
              "      <td>покупка жилья</td>\n",
              "    </tr>\n",
              "    <tr>\n",
              "      <th>3</th>\n",
              "      <td>3</td>\n",
              "      <td>4124.747207</td>\n",
              "      <td>32</td>\n",
              "      <td>среднее</td>\n",
              "      <td>1</td>\n",
              "      <td>женат / замужем</td>\n",
              "      <td>0</td>\n",
              "      <td>M</td>\n",
              "      <td>сотрудник</td>\n",
              "      <td>0</td>\n",
              "      <td>267628.550329</td>\n",
              "      <td>дополнительное образование</td>\n",
              "    </tr>\n",
              "    <tr>\n",
              "      <th>4</th>\n",
              "      <td>0</td>\n",
              "      <td>340266.072047</td>\n",
              "      <td>53</td>\n",
              "      <td>среднее</td>\n",
              "      <td>1</td>\n",
              "      <td>гражданский брак</td>\n",
              "      <td>1</td>\n",
              "      <td>F</td>\n",
              "      <td>пенсионер</td>\n",
              "      <td>0</td>\n",
              "      <td>158616.077870</td>\n",
              "      <td>сыграть свадьбу</td>\n",
              "    </tr>\n",
              "    <tr>\n",
              "      <th>5</th>\n",
              "      <td>0</td>\n",
              "      <td>926.185831</td>\n",
              "      <td>27</td>\n",
              "      <td>высшее</td>\n",
              "      <td>0</td>\n",
              "      <td>гражданский брак</td>\n",
              "      <td>1</td>\n",
              "      <td>M</td>\n",
              "      <td>компаньон</td>\n",
              "      <td>0</td>\n",
              "      <td>255763.565419</td>\n",
              "      <td>покупка жилья</td>\n",
              "    </tr>\n",
              "    <tr>\n",
              "      <th>6</th>\n",
              "      <td>0</td>\n",
              "      <td>2879.202052</td>\n",
              "      <td>43</td>\n",
              "      <td>высшее</td>\n",
              "      <td>0</td>\n",
              "      <td>женат / замужем</td>\n",
              "      <td>0</td>\n",
              "      <td>F</td>\n",
              "      <td>компаньон</td>\n",
              "      <td>0</td>\n",
              "      <td>240525.971920</td>\n",
              "      <td>операции с жильем</td>\n",
              "    </tr>\n",
              "    <tr>\n",
              "      <th>7</th>\n",
              "      <td>0</td>\n",
              "      <td>152.779569</td>\n",
              "      <td>50</td>\n",
              "      <td>среднее</td>\n",
              "      <td>1</td>\n",
              "      <td>женат / замужем</td>\n",
              "      <td>0</td>\n",
              "      <td>M</td>\n",
              "      <td>сотрудник</td>\n",
              "      <td>0</td>\n",
              "      <td>135823.934197</td>\n",
              "      <td>образование</td>\n",
              "    </tr>\n",
              "    <tr>\n",
              "      <th>8</th>\n",
              "      <td>2</td>\n",
              "      <td>6929.865299</td>\n",
              "      <td>35</td>\n",
              "      <td>высшее</td>\n",
              "      <td>0</td>\n",
              "      <td>гражданский брак</td>\n",
              "      <td>1</td>\n",
              "      <td>F</td>\n",
              "      <td>сотрудник</td>\n",
              "      <td>0</td>\n",
              "      <td>95856.832424</td>\n",
              "      <td>на проведение свадьбы</td>\n",
              "    </tr>\n",
              "    <tr>\n",
              "      <th>9</th>\n",
              "      <td>0</td>\n",
              "      <td>2188.756445</td>\n",
              "      <td>41</td>\n",
              "      <td>среднее</td>\n",
              "      <td>1</td>\n",
              "      <td>женат / замужем</td>\n",
              "      <td>0</td>\n",
              "      <td>M</td>\n",
              "      <td>сотрудник</td>\n",
              "      <td>0</td>\n",
              "      <td>144425.938277</td>\n",
              "      <td>покупка жилья для семьи</td>\n",
              "    </tr>\n",
              "  </tbody>\n",
              "</table>\n",
              "</div>"
            ],
            "text/plain": [
              "  children  days_employed  ...   total_income                     purpose\n",
              "0        1    8437.673028  ...  253875.639453               покупка жилья\n",
              "1        1    4024.803754  ...  112080.014102     приобретение автомобиля\n",
              "2        0    5623.422610  ...  145885.952297               покупка жилья\n",
              "3        3    4124.747207  ...  267628.550329  дополнительное образование\n",
              "4        0  340266.072047  ...  158616.077870             сыграть свадьбу\n",
              "5        0     926.185831  ...  255763.565419               покупка жилья\n",
              "6        0    2879.202052  ...  240525.971920           операции с жильем\n",
              "7        0     152.779569  ...  135823.934197                 образование\n",
              "8        2    6929.865299  ...   95856.832424       на проведение свадьбы\n",
              "9        0    2188.756445  ...  144425.938277     покупка жилья для семьи\n",
              "\n",
              "[10 rows x 12 columns]"
            ]
          },
          "metadata": {
            "tags": []
          },
          "execution_count": 23
        }
      ]
    },
    {
      "cell_type": "markdown",
      "metadata": {
        "id": "6jH_kmnzsN1K"
      },
      "source": [
        "<div style=\"border:solid green 2px; padding: 20px\"> <h1 style=\"color:green; margin-bottom:20px\">Комментарий ревьюера</h1>\n",
        "Отличное использование цикла\n",
        "</div>"
      ]
    },
    {
      "cell_type": "code",
      "metadata": {
        "colab": {
          "base_uri": "https://localhost:8080/"
        },
        "id": "MN50xNdusN1K",
        "outputId": "05e1435a-34f2-43d7-f1ef-4edf6446ad3d"
      },
      "source": [
        "education_counts = data['education'].value_counts()\n",
        "education_counts"
      ],
      "execution_count": null,
      "outputs": [
        {
          "output_type": "execute_result",
          "data": {
            "text/plain": [
              "среднее                15233\n",
              "высшее                  5260\n",
              "неоконченное высшее      744\n",
              "начальное                282\n",
              "ученая степень             6\n",
              "Name: education, dtype: int64"
            ]
          },
          "metadata": {
            "tags": []
          },
          "execution_count": 24
        }
      ]
    },
    {
      "cell_type": "code",
      "metadata": {
        "colab": {
          "base_uri": "https://localhost:8080/"
        },
        "id": "lu5_y7ifsN1K",
        "outputId": "6380478e-d4b8-498d-989b-b343563c1b15"
      },
      "source": [
        "education_id_counts = data['education_id'].value_counts()\n",
        "education_id_counts"
      ],
      "execution_count": null,
      "outputs": [
        {
          "output_type": "execute_result",
          "data": {
            "text/plain": [
              "1    15233\n",
              "0     5260\n",
              "2      744\n",
              "3      282\n",
              "4        6\n",
              "Name: education_id, dtype: int64"
            ]
          },
          "metadata": {
            "tags": []
          },
          "execution_count": 25
        }
      ]
    },
    {
      "cell_type": "code",
      "metadata": {
        "colab": {
          "base_uri": "https://localhost:8080/"
        },
        "id": "BJ3dMVZBsN1K",
        "outputId": "5b1d8dd9-c27d-4804-b8ea-5e9996137492"
      },
      "source": [
        "family_status_counts = data['family_status'].value_counts()\n",
        "family_status_counts"
      ],
      "execution_count": null,
      "outputs": [
        {
          "output_type": "execute_result",
          "data": {
            "text/plain": [
              "женат / замужем          12380\n",
              "гражданский брак          4177\n",
              "не женат / не замужем     2813\n",
              "в разводе                 1195\n",
              "вдовец / вдова             960\n",
              "Name: family_status, dtype: int64"
            ]
          },
          "metadata": {
            "tags": []
          },
          "execution_count": 26
        }
      ]
    },
    {
      "cell_type": "code",
      "metadata": {
        "colab": {
          "base_uri": "https://localhost:8080/"
        },
        "id": "bem6fKIcsN1K",
        "outputId": "bd626b36-5b62-47c2-b809-87c87b6fa9fa"
      },
      "source": [
        "family_status_id_counts = data['family_status_id'].value_counts()\n",
        "family_status_id_counts"
      ],
      "execution_count": null,
      "outputs": [
        {
          "output_type": "execute_result",
          "data": {
            "text/plain": [
              "0    12380\n",
              "1     4177\n",
              "4     2813\n",
              "3     1195\n",
              "2      960\n",
              "Name: family_status_id, dtype: int64"
            ]
          },
          "metadata": {
            "tags": []
          },
          "execution_count": 27
        }
      ]
    },
    {
      "cell_type": "code",
      "metadata": {
        "colab": {
          "base_uri": "https://localhost:8080/"
        },
        "id": "X5Kz10JGsN1L",
        "outputId": "48f7e216-84a2-4f78-a11e-af2c65951c5a"
      },
      "source": [
        "gender_counts = data['gender'].value_counts()#Посмотрим как берут кретит заёмщики разного пола\n",
        "gender_counts"
      ],
      "execution_count": null,
      "outputs": [
        {
          "output_type": "execute_result",
          "data": {
            "text/plain": [
              "F      14236\n",
              "M       7288\n",
              "XNA        1\n",
              "Name: gender, dtype: int64"
            ]
          },
          "metadata": {
            "tags": []
          },
          "execution_count": 28
        }
      ]
    },
    {
      "cell_type": "code",
      "metadata": {
        "colab": {
          "base_uri": "https://localhost:8080/"
        },
        "id": "2Xx-kEAOsN1L",
        "outputId": "f78f1b20-0961-4562-efa1-5560b974d117"
      },
      "source": [
        "gender_xna = data.loc[data['gender'] == 'XNA']#Посмотрим запись с неопределённым полом.\n",
        "gender_xna"
      ],
      "execution_count": null,
      "outputs": [
        {
          "output_type": "execute_result",
          "data": {
            "text/html": [
              "<div>\n",
              "<style scoped>\n",
              "    .dataframe tbody tr th:only-of-type {\n",
              "        vertical-align: middle;\n",
              "    }\n",
              "\n",
              "    .dataframe tbody tr th {\n",
              "        vertical-align: top;\n",
              "    }\n",
              "\n",
              "    .dataframe thead th {\n",
              "        text-align: right;\n",
              "    }\n",
              "</style>\n",
              "<table border=\"1\" class=\"dataframe\">\n",
              "  <thead>\n",
              "    <tr style=\"text-align: right;\">\n",
              "      <th></th>\n",
              "      <th>children</th>\n",
              "      <th>days_employed</th>\n",
              "      <th>dob_years</th>\n",
              "      <th>education</th>\n",
              "      <th>education_id</th>\n",
              "      <th>family_status</th>\n",
              "      <th>family_status_id</th>\n",
              "      <th>gender</th>\n",
              "      <th>income_type</th>\n",
              "      <th>debt</th>\n",
              "      <th>total_income</th>\n",
              "      <th>purpose</th>\n",
              "    </tr>\n",
              "  </thead>\n",
              "  <tbody>\n",
              "    <tr>\n",
              "      <th>10701</th>\n",
              "      <td>0</td>\n",
              "      <td>2358.600502</td>\n",
              "      <td>24</td>\n",
              "      <td>неоконченное высшее</td>\n",
              "      <td>2</td>\n",
              "      <td>гражданский брак</td>\n",
              "      <td>1</td>\n",
              "      <td>XNA</td>\n",
              "      <td>компаньон</td>\n",
              "      <td>0</td>\n",
              "      <td>203905.157261</td>\n",
              "      <td>покупка недвижимости</td>\n",
              "    </tr>\n",
              "  </tbody>\n",
              "</table>\n",
              "</div>"
            ],
            "text/plain": [
              "      children  days_employed  ...   total_income               purpose\n",
              "10701        0    2358.600502  ...  203905.157261  покупка недвижимости\n",
              "\n",
              "[1 rows x 12 columns]"
            ]
          },
          "metadata": {
            "tags": []
          },
          "execution_count": 29
        }
      ]
    },
    {
      "cell_type": "code",
      "metadata": {
        "colab": {
          "base_uri": "https://localhost:8080/"
        },
        "id": "fp96EoZRsN1L",
        "outputId": "a3396506-1d9f-4b3f-886f-687d6c60bc9f"
      },
      "source": [
        "#Создадим промежуточную таблицу, сгруппированую по типу занятости, для вычисления среднего дохода. \n",
        "median_table = data.groupby('income_type').agg({'total_income': 'median'})\n",
        "\n",
        "#Заполним пропущенные значения средним значением для данной категории занятости.\n",
        "for inc_type in median_table.index:\n",
        "    inc_med = median_table.loc[inc_type, 'total_income']\n",
        "    data.loc[data['income_type'] == inc_type, 'total_income'] = data.loc[data['income_type'] == inc_type, 'total_income'].fillna(inc_med)\n",
        "data.isnull().sum()#Проверим остались ли не заполненные данные в таблице"
      ],
      "execution_count": null,
      "outputs": [
        {
          "output_type": "execute_result",
          "data": {
            "text/plain": [
              "children            0\n",
              "days_employed       0\n",
              "dob_years           0\n",
              "education           0\n",
              "education_id        0\n",
              "family_status       0\n",
              "family_status_id    0\n",
              "gender              0\n",
              "income_type         0\n",
              "debt                0\n",
              "total_income        0\n",
              "purpose             0\n",
              "dtype: int64"
            ]
          },
          "metadata": {
            "tags": []
          },
          "execution_count": 30
        }
      ]
    },
    {
      "cell_type": "markdown",
      "metadata": {
        "id": "m743D_4YsN1L"
      },
      "source": [
        "<div style=\"border:solid green 2px; padding: 20px\"> <h1 style=\"color:green; margin-bottom:20px\">Комментарий ревьюера</h1>\n",
        "Ок, замена на медиану по типу дохода - оптимальное решение\n",
        "</div>"
      ]
    },
    {
      "cell_type": "markdown",
      "metadata": {
        "id": "pt05GBqJsN1M"
      },
      "source": [
        "### Вывод"
      ]
    },
    {
      "cell_type": "markdown",
      "metadata": {
        "id": "xO2-OmohsN1M"
      },
      "source": [
        "В первом шаге мы изучили таблицу. К записи данных в ней были выявлены замечания.\n",
        "1. С графе \"дети\" были исправлены данные о количесте детей -1 и 20. Данные значения похоже на опечатку при вводе этих данных. Исправили на похожие по смыслу -1 на 1, а 20 на 2(при наборе на цифровом блоке клавиатуры явно была нажата ещё и цифра 0)\n",
        "2. В графе \"стаж\" не заполненные данные замени на 0, так как эти данные на дальнейший анализ не влияют.\n",
        "3. В графе \"возраст\" заменили нулевой врозраст на средний по таблице данных ,эти данные не критичны.\n",
        "4. Графу образование привели к единому регистру нгаписания. Этим исключили дублирование данных об образовании.\n",
        "5. В данных о поле заёмщиков есть одна запись с неуказанным полом. Анализ строки не позволяет выбрать замену, оставил как есть.\n",
        "6. В графе \"доход\" пропуски заменил на среднее значение дохода для данной категории заёмщика.\n",
        "\n",
        "<div style=\"border:solid green 2px; padding: 20px\"> <h1 style=\"color:green; margin-bottom:20px\">Комментарий ревьюера</h1>\n",
        "Молодец, все пропуски и аномалии в данных обнаружили и обработали\n",
        "</div>"
      ]
    },
    {
      "cell_type": "markdown",
      "metadata": {
        "id": "kVTuUMA1sN1M"
      },
      "source": [
        "### [Содержание](#step0) "
      ]
    },
    {
      "cell_type": "markdown",
      "metadata": {
        "id": "SZmfoxrdsN1M"
      },
      "source": [
        "### Заменим тип данных <a id=\"step4\"></a>"
      ]
    },
    {
      "cell_type": "code",
      "metadata": {
        "colab": {
          "base_uri": "https://localhost:8080/"
        },
        "id": "WRem4_cPsN1M",
        "outputId": "a38b1cc1-9e26-4076-86de-d3eb4ad9351d"
      },
      "source": [
        "data['days_employed'] = data['days_employed'].astype('int64')#Изменим тип данных в столбце стажа\n",
        "data['total_income'] = data['total_income'].astype('int64')#Изменим тип данных в столбце дохода\n",
        "data.info()#Проверим данные"
      ],
      "execution_count": null,
      "outputs": [
        {
          "output_type": "stream",
          "text": [
            "<class 'pandas.core.frame.DataFrame'>\n",
            "RangeIndex: 21525 entries, 0 to 21524\n",
            "Data columns (total 12 columns):\n",
            " #   Column            Non-Null Count  Dtype \n",
            "---  ------            --------------  ----- \n",
            " 0   children          21525 non-null  object\n",
            " 1   days_employed     21525 non-null  int64 \n",
            " 2   dob_years         21525 non-null  int64 \n",
            " 3   education         21525 non-null  object\n",
            " 4   education_id      21525 non-null  int64 \n",
            " 5   family_status     21525 non-null  object\n",
            " 6   family_status_id  21525 non-null  int64 \n",
            " 7   gender            21525 non-null  object\n",
            " 8   income_type       21525 non-null  object\n",
            " 9   debt              21525 non-null  int64 \n",
            " 10  total_income      21525 non-null  int64 \n",
            " 11  purpose           21525 non-null  object\n",
            "dtypes: int64(6), object(6)\n",
            "memory usage: 2.0+ MB\n"
          ],
          "name": "stdout"
        }
      ]
    },
    {
      "cell_type": "code",
      "metadata": {
        "colab": {
          "base_uri": "https://localhost:8080/"
        },
        "id": "ezy19uAWsN1M",
        "outputId": "a70e4027-fe29-4b73-8cea-4d9c2f7c7114"
      },
      "source": [
        "data.head(10)#Посмтрим первые 10 строк"
      ],
      "execution_count": null,
      "outputs": [
        {
          "output_type": "execute_result",
          "data": {
            "text/html": [
              "<div>\n",
              "<style scoped>\n",
              "    .dataframe tbody tr th:only-of-type {\n",
              "        vertical-align: middle;\n",
              "    }\n",
              "\n",
              "    .dataframe tbody tr th {\n",
              "        vertical-align: top;\n",
              "    }\n",
              "\n",
              "    .dataframe thead th {\n",
              "        text-align: right;\n",
              "    }\n",
              "</style>\n",
              "<table border=\"1\" class=\"dataframe\">\n",
              "  <thead>\n",
              "    <tr style=\"text-align: right;\">\n",
              "      <th></th>\n",
              "      <th>children</th>\n",
              "      <th>days_employed</th>\n",
              "      <th>dob_years</th>\n",
              "      <th>education</th>\n",
              "      <th>education_id</th>\n",
              "      <th>family_status</th>\n",
              "      <th>family_status_id</th>\n",
              "      <th>gender</th>\n",
              "      <th>income_type</th>\n",
              "      <th>debt</th>\n",
              "      <th>total_income</th>\n",
              "      <th>purpose</th>\n",
              "    </tr>\n",
              "  </thead>\n",
              "  <tbody>\n",
              "    <tr>\n",
              "      <th>0</th>\n",
              "      <td>1</td>\n",
              "      <td>8437</td>\n",
              "      <td>42</td>\n",
              "      <td>высшее</td>\n",
              "      <td>0</td>\n",
              "      <td>женат / замужем</td>\n",
              "      <td>0</td>\n",
              "      <td>F</td>\n",
              "      <td>сотрудник</td>\n",
              "      <td>0</td>\n",
              "      <td>253875</td>\n",
              "      <td>покупка жилья</td>\n",
              "    </tr>\n",
              "    <tr>\n",
              "      <th>1</th>\n",
              "      <td>1</td>\n",
              "      <td>4024</td>\n",
              "      <td>36</td>\n",
              "      <td>среднее</td>\n",
              "      <td>1</td>\n",
              "      <td>женат / замужем</td>\n",
              "      <td>0</td>\n",
              "      <td>F</td>\n",
              "      <td>сотрудник</td>\n",
              "      <td>0</td>\n",
              "      <td>112080</td>\n",
              "      <td>приобретение автомобиля</td>\n",
              "    </tr>\n",
              "    <tr>\n",
              "      <th>2</th>\n",
              "      <td>0</td>\n",
              "      <td>5623</td>\n",
              "      <td>33</td>\n",
              "      <td>среднее</td>\n",
              "      <td>1</td>\n",
              "      <td>женат / замужем</td>\n",
              "      <td>0</td>\n",
              "      <td>M</td>\n",
              "      <td>сотрудник</td>\n",
              "      <td>0</td>\n",
              "      <td>145885</td>\n",
              "      <td>покупка жилья</td>\n",
              "    </tr>\n",
              "    <tr>\n",
              "      <th>3</th>\n",
              "      <td>3</td>\n",
              "      <td>4124</td>\n",
              "      <td>32</td>\n",
              "      <td>среднее</td>\n",
              "      <td>1</td>\n",
              "      <td>женат / замужем</td>\n",
              "      <td>0</td>\n",
              "      <td>M</td>\n",
              "      <td>сотрудник</td>\n",
              "      <td>0</td>\n",
              "      <td>267628</td>\n",
              "      <td>дополнительное образование</td>\n",
              "    </tr>\n",
              "    <tr>\n",
              "      <th>4</th>\n",
              "      <td>0</td>\n",
              "      <td>340266</td>\n",
              "      <td>53</td>\n",
              "      <td>среднее</td>\n",
              "      <td>1</td>\n",
              "      <td>гражданский брак</td>\n",
              "      <td>1</td>\n",
              "      <td>F</td>\n",
              "      <td>пенсионер</td>\n",
              "      <td>0</td>\n",
              "      <td>158616</td>\n",
              "      <td>сыграть свадьбу</td>\n",
              "    </tr>\n",
              "    <tr>\n",
              "      <th>5</th>\n",
              "      <td>0</td>\n",
              "      <td>926</td>\n",
              "      <td>27</td>\n",
              "      <td>высшее</td>\n",
              "      <td>0</td>\n",
              "      <td>гражданский брак</td>\n",
              "      <td>1</td>\n",
              "      <td>M</td>\n",
              "      <td>компаньон</td>\n",
              "      <td>0</td>\n",
              "      <td>255763</td>\n",
              "      <td>покупка жилья</td>\n",
              "    </tr>\n",
              "    <tr>\n",
              "      <th>6</th>\n",
              "      <td>0</td>\n",
              "      <td>2879</td>\n",
              "      <td>43</td>\n",
              "      <td>высшее</td>\n",
              "      <td>0</td>\n",
              "      <td>женат / замужем</td>\n",
              "      <td>0</td>\n",
              "      <td>F</td>\n",
              "      <td>компаньон</td>\n",
              "      <td>0</td>\n",
              "      <td>240525</td>\n",
              "      <td>операции с жильем</td>\n",
              "    </tr>\n",
              "    <tr>\n",
              "      <th>7</th>\n",
              "      <td>0</td>\n",
              "      <td>152</td>\n",
              "      <td>50</td>\n",
              "      <td>среднее</td>\n",
              "      <td>1</td>\n",
              "      <td>женат / замужем</td>\n",
              "      <td>0</td>\n",
              "      <td>M</td>\n",
              "      <td>сотрудник</td>\n",
              "      <td>0</td>\n",
              "      <td>135823</td>\n",
              "      <td>образование</td>\n",
              "    </tr>\n",
              "    <tr>\n",
              "      <th>8</th>\n",
              "      <td>2</td>\n",
              "      <td>6929</td>\n",
              "      <td>35</td>\n",
              "      <td>высшее</td>\n",
              "      <td>0</td>\n",
              "      <td>гражданский брак</td>\n",
              "      <td>1</td>\n",
              "      <td>F</td>\n",
              "      <td>сотрудник</td>\n",
              "      <td>0</td>\n",
              "      <td>95856</td>\n",
              "      <td>на проведение свадьбы</td>\n",
              "    </tr>\n",
              "    <tr>\n",
              "      <th>9</th>\n",
              "      <td>0</td>\n",
              "      <td>2188</td>\n",
              "      <td>41</td>\n",
              "      <td>среднее</td>\n",
              "      <td>1</td>\n",
              "      <td>женат / замужем</td>\n",
              "      <td>0</td>\n",
              "      <td>M</td>\n",
              "      <td>сотрудник</td>\n",
              "      <td>0</td>\n",
              "      <td>144425</td>\n",
              "      <td>покупка жилья для семьи</td>\n",
              "    </tr>\n",
              "  </tbody>\n",
              "</table>\n",
              "</div>"
            ],
            "text/plain": [
              "  children  days_employed  ...  total_income                     purpose\n",
              "0        1           8437  ...        253875               покупка жилья\n",
              "1        1           4024  ...        112080     приобретение автомобиля\n",
              "2        0           5623  ...        145885               покупка жилья\n",
              "3        3           4124  ...        267628  дополнительное образование\n",
              "4        0         340266  ...        158616             сыграть свадьбу\n",
              "5        0            926  ...        255763               покупка жилья\n",
              "6        0           2879  ...        240525           операции с жильем\n",
              "7        0            152  ...        135823                 образование\n",
              "8        2           6929  ...         95856       на проведение свадьбы\n",
              "9        0           2188  ...        144425     покупка жилья для семьи\n",
              "\n",
              "[10 rows x 12 columns]"
            ]
          },
          "metadata": {
            "tags": []
          },
          "execution_count": 32
        }
      ]
    },
    {
      "cell_type": "markdown",
      "metadata": {
        "id": "HwQf1ECQsN1N"
      },
      "source": [
        "### Вывод"
      ]
    },
    {
      "cell_type": "markdown",
      "metadata": {
        "id": "zvt-aof-sN1N"
      },
      "source": [
        "Для удобства дальнейших расчетов заменили вещественные числа в ячейках на целочисленные.\n",
        "\n",
        "<div style=\"border:solid green 2px; padding: 20px\"> <h1 style=\"color:green; margin-bottom:20px\">Комментарий ревьюера</h1>\n",
        "Да, типы данных оптимизированы. Это важный момент на практике, хотя на таком сравнительно небольшом наборе это может показаться незначитальным, но в реальности можно сильно сократить занимаемый объем данных\n",
        "</div>"
      ]
    },
    {
      "cell_type": "markdown",
      "metadata": {
        "id": "PP41PwIxsN1N"
      },
      "source": [
        "### [Содержание](#step0) "
      ]
    },
    {
      "cell_type": "markdown",
      "metadata": {
        "id": "lHIZXOm_sN1N"
      },
      "source": [
        "### Обработаем дубликаты <a id=\"step5\"></a>"
      ]
    },
    {
      "cell_type": "code",
      "metadata": {
        "colab": {
          "base_uri": "https://localhost:8080/"
        },
        "id": "uIDc2AMUsN1N",
        "outputId": "5ed1380d-65f8-4c8d-885a-ef8eba124aed"
      },
      "source": [
        "data = data.drop_duplicates().reset_index(drop=True)#Удалим дублированные данные\n",
        "data.duplicated().sum()#Проверим дубликаты"
      ],
      "execution_count": null,
      "outputs": [
        {
          "output_type": "execute_result",
          "data": {
            "text/plain": [
              "0"
            ]
          },
          "metadata": {
            "tags": []
          },
          "execution_count": 33
        }
      ]
    },
    {
      "cell_type": "markdown",
      "metadata": {
        "id": "j_FXDip6sN1N"
      },
      "source": [
        "### Вывод"
      ]
    },
    {
      "cell_type": "markdown",
      "metadata": {
        "id": "8BxudNjEsN1O"
      },
      "source": [
        "Удалили обнаруженные в записях дубликаты. Дублированные данные об образовании исправили ранее.\n",
        "\n",
        "<div style=\"border:solid green 2px; padding: 20px\"> <h1 style=\"color:green; margin-bottom:20px\">Комментарий ревьюера</h1>\n",
        "Хорошо, дубликаты верно удалены.\n",
        "    \n",
        "Но все же стоило посмотреть сколько дублей у нас в наборе - это интересно. Плюс стоило поподробнее описать природу пропусков. Откуда они получились? Можно ли их безболезненно удалить?\n",
        "\n",
        "<div style=\"border:solid blue 2px; padding: 14px\"> <h1 style=\"color:blue; margin-bottom:14px\">Комментарий студента-аналитика</h1>\n",
        "Дубликаты были посчитаны и промотрены в шаге 1, при изучении данных в таблице. Сделал там вывод дубликатов более наглядней. \n",
        "</div>"
      ]
    },
    {
      "cell_type": "markdown",
      "metadata": {
        "id": "dSujyP2ysN1O"
      },
      "source": [
        "<div style=\"border:solid green 2px; padding: 20px\"> <h1 style=\"color:green; margin-bottom:20px\">Комментарий ревьюера - 2</h1>\n",
        " \n",
        "Хорошо. На таком не большом проекте это не очевидно, но в комплексных проектах иногда приходится повторятся. Просто иногда люди смотрят отдельные части и по оглпвлению переходят. Захотел человек (например Data Engineer) узнать что происходит с дублированием. А в этом разделе он видит просто 0.\n",
        "    \n",
        "При этом дублей на самом деле больше чем в первом разделе. При заменен регитра их количество увеличивается. Такое часто происходит и лучше еще раз все проверять непосредственно перед удалением.\n",
        "</div>"
      ]
    },
    {
      "cell_type": "markdown",
      "metadata": {
        "id": "2-0ozIdcsN1O"
      },
      "source": [
        "[Посмотреть дубликаты](#step10) \n"
      ]
    },
    {
      "cell_type": "markdown",
      "metadata": {
        "id": "vAB3J4EusN1O"
      },
      "source": [
        "### [Содержание](#step0) "
      ]
    },
    {
      "cell_type": "markdown",
      "metadata": {
        "id": "A0M_fOxisN1O"
      },
      "source": [
        "### Лемматизируем цели <a id=\"step6\"></a>"
      ]
    },
    {
      "cell_type": "code",
      "metadata": {
        "colab": {
          "base_uri": "https://localhost:8080/",
          "height": 459
        },
        "id": "MBHcj2XSsN1O",
        "outputId": "b712a3b6-5da8-41cd-9285-71e1ebe3cf71"
      },
      "source": [
        "data['purpose_lemma'] = data['purpose'].apply(m.lemmatize)#Все цели займа выделяем в отдельный столбец и лемматизиурем его\n",
        "print(Counter(data['purpose_lemma'].sum()))#Смотрим сколько получилось уникальных слов"
      ],
      "execution_count": null,
      "outputs": [
        {
          "output_type": "error",
          "ename": "KeyboardInterrupt",
          "evalue": "ignored",
          "traceback": [
            "\u001b[0;31m---------------------------------------------------------------------------\u001b[0m",
            "\u001b[0;31mStopIteration\u001b[0m                             Traceback (most recent call last)",
            "\u001b[0;32m/usr/lib/python3.6/json/decoder.py\u001b[0m in \u001b[0;36mraw_decode\u001b[0;34m(self, s, idx)\u001b[0m\n\u001b[1;32m    354\u001b[0m         \u001b[0;32mtry\u001b[0m\u001b[0;34m:\u001b[0m\u001b[0;34m\u001b[0m\u001b[0;34m\u001b[0m\u001b[0m\n\u001b[0;32m--> 355\u001b[0;31m             \u001b[0mobj\u001b[0m\u001b[0;34m,\u001b[0m \u001b[0mend\u001b[0m \u001b[0;34m=\u001b[0m \u001b[0mself\u001b[0m\u001b[0;34m.\u001b[0m\u001b[0mscan_once\u001b[0m\u001b[0;34m(\u001b[0m\u001b[0ms\u001b[0m\u001b[0;34m,\u001b[0m \u001b[0midx\u001b[0m\u001b[0;34m)\u001b[0m\u001b[0;34m\u001b[0m\u001b[0;34m\u001b[0m\u001b[0m\n\u001b[0m\u001b[1;32m    356\u001b[0m         \u001b[0;32mexcept\u001b[0m \u001b[0mStopIteration\u001b[0m \u001b[0;32mas\u001b[0m \u001b[0merr\u001b[0m\u001b[0;34m:\u001b[0m\u001b[0;34m\u001b[0m\u001b[0;34m\u001b[0m\u001b[0m\n",
            "\u001b[0;31mStopIteration\u001b[0m: 0",
            "\nDuring handling of the above exception, another exception occurred:\n",
            "\u001b[0;31mKeyboardInterrupt\u001b[0m                         Traceback (most recent call last)",
            "\u001b[0;32m<ipython-input-34-e2021635eced>\u001b[0m in \u001b[0;36m<module>\u001b[0;34m()\u001b[0m\n\u001b[0;32m----> 1\u001b[0;31m \u001b[0mdata\u001b[0m\u001b[0;34m[\u001b[0m\u001b[0;34m'purpose_lemma'\u001b[0m\u001b[0;34m]\u001b[0m \u001b[0;34m=\u001b[0m \u001b[0mdata\u001b[0m\u001b[0;34m[\u001b[0m\u001b[0;34m'purpose'\u001b[0m\u001b[0;34m]\u001b[0m\u001b[0;34m.\u001b[0m\u001b[0mapply\u001b[0m\u001b[0;34m(\u001b[0m\u001b[0mm\u001b[0m\u001b[0;34m.\u001b[0m\u001b[0mlemmatize\u001b[0m\u001b[0;34m)\u001b[0m\u001b[0;31m#Все цели займа выделяем в отдельный столбец и лемматизиурем его\u001b[0m\u001b[0;34m\u001b[0m\u001b[0;34m\u001b[0m\u001b[0m\n\u001b[0m\u001b[1;32m      2\u001b[0m \u001b[0mprint\u001b[0m\u001b[0;34m(\u001b[0m\u001b[0mCounter\u001b[0m\u001b[0;34m(\u001b[0m\u001b[0mdata\u001b[0m\u001b[0;34m[\u001b[0m\u001b[0;34m'purpose_lemma'\u001b[0m\u001b[0;34m]\u001b[0m\u001b[0;34m.\u001b[0m\u001b[0msum\u001b[0m\u001b[0;34m(\u001b[0m\u001b[0;34m)\u001b[0m\u001b[0;34m)\u001b[0m\u001b[0;34m)\u001b[0m\u001b[0;31m#Смотрим сколько получилось уникальных слов\u001b[0m\u001b[0;34m\u001b[0m\u001b[0;34m\u001b[0m\u001b[0m\n",
            "\u001b[0;32m/usr/local/lib/python3.6/dist-packages/pandas/core/series.py\u001b[0m in \u001b[0;36mapply\u001b[0;34m(self, func, convert_dtype, args, **kwds)\u001b[0m\n\u001b[1;32m   4211\u001b[0m             \u001b[0;32melse\u001b[0m\u001b[0;34m:\u001b[0m\u001b[0;34m\u001b[0m\u001b[0;34m\u001b[0m\u001b[0m\n\u001b[1;32m   4212\u001b[0m                 \u001b[0mvalues\u001b[0m \u001b[0;34m=\u001b[0m \u001b[0mself\u001b[0m\u001b[0;34m.\u001b[0m\u001b[0mastype\u001b[0m\u001b[0;34m(\u001b[0m\u001b[0mobject\u001b[0m\u001b[0;34m)\u001b[0m\u001b[0;34m.\u001b[0m\u001b[0m_values\u001b[0m\u001b[0;34m\u001b[0m\u001b[0;34m\u001b[0m\u001b[0m\n\u001b[0;32m-> 4213\u001b[0;31m                 \u001b[0mmapped\u001b[0m \u001b[0;34m=\u001b[0m \u001b[0mlib\u001b[0m\u001b[0;34m.\u001b[0m\u001b[0mmap_infer\u001b[0m\u001b[0;34m(\u001b[0m\u001b[0mvalues\u001b[0m\u001b[0;34m,\u001b[0m \u001b[0mf\u001b[0m\u001b[0;34m,\u001b[0m \u001b[0mconvert\u001b[0m\u001b[0;34m=\u001b[0m\u001b[0mconvert_dtype\u001b[0m\u001b[0;34m)\u001b[0m\u001b[0;34m\u001b[0m\u001b[0;34m\u001b[0m\u001b[0m\n\u001b[0m\u001b[1;32m   4214\u001b[0m \u001b[0;34m\u001b[0m\u001b[0m\n\u001b[1;32m   4215\u001b[0m         \u001b[0;32mif\u001b[0m \u001b[0mlen\u001b[0m\u001b[0;34m(\u001b[0m\u001b[0mmapped\u001b[0m\u001b[0;34m)\u001b[0m \u001b[0;32mand\u001b[0m \u001b[0misinstance\u001b[0m\u001b[0;34m(\u001b[0m\u001b[0mmapped\u001b[0m\u001b[0;34m[\u001b[0m\u001b[0;36m0\u001b[0m\u001b[0;34m]\u001b[0m\u001b[0;34m,\u001b[0m \u001b[0mSeries\u001b[0m\u001b[0;34m)\u001b[0m\u001b[0;34m:\u001b[0m\u001b[0;34m\u001b[0m\u001b[0;34m\u001b[0m\u001b[0m\n",
            "\u001b[0;32mpandas/_libs/lib.pyx\u001b[0m in \u001b[0;36mpandas._libs.lib.map_infer\u001b[0;34m()\u001b[0m\n",
            "\u001b[0;32m/usr/local/lib/python3.6/dist-packages/pymystem3/mystem.py\u001b[0m in \u001b[0;36mlemmatize\u001b[0;34m(self, text)\u001b[0m\n\u001b[1;32m    263\u001b[0m         \u001b[0mneed_encode\u001b[0m \u001b[0;34m=\u001b[0m \u001b[0;34m(\u001b[0m\u001b[0msys\u001b[0m\u001b[0;34m.\u001b[0m\u001b[0mversion_info\u001b[0m\u001b[0;34m[\u001b[0m\u001b[0;36m0\u001b[0m\u001b[0;34m]\u001b[0m \u001b[0;34m<\u001b[0m \u001b[0;36m3\u001b[0m \u001b[0;32mand\u001b[0m \u001b[0misinstance\u001b[0m\u001b[0;34m(\u001b[0m\u001b[0mtext\u001b[0m\u001b[0;34m,\u001b[0m \u001b[0mstr\u001b[0m\u001b[0;34m)\u001b[0m\u001b[0;34m)\u001b[0m\u001b[0;34m\u001b[0m\u001b[0;34m\u001b[0m\u001b[0m\n\u001b[1;32m    264\u001b[0m \u001b[0;34m\u001b[0m\u001b[0m\n\u001b[0;32m--> 265\u001b[0;31m         \u001b[0minfos\u001b[0m \u001b[0;34m=\u001b[0m \u001b[0mself\u001b[0m\u001b[0;34m.\u001b[0m\u001b[0manalyze\u001b[0m\u001b[0;34m(\u001b[0m\u001b[0mtext\u001b[0m\u001b[0;34m)\u001b[0m\u001b[0;34m\u001b[0m\u001b[0;34m\u001b[0m\u001b[0m\n\u001b[0m\u001b[1;32m    266\u001b[0m         \u001b[0mlemmas\u001b[0m \u001b[0;34m=\u001b[0m \u001b[0mlist\u001b[0m\u001b[0;34m(\u001b[0m\u001b[0mfilter\u001b[0m\u001b[0;34m(\u001b[0m\u001b[0;32mNone\u001b[0m\u001b[0;34m,\u001b[0m \u001b[0mmap\u001b[0m\u001b[0;34m(\u001b[0m\u001b[0mself\u001b[0m\u001b[0;34m.\u001b[0m\u001b[0m_get_lemma\u001b[0m\u001b[0;34m,\u001b[0m \u001b[0minfos\u001b[0m\u001b[0;34m)\u001b[0m\u001b[0;34m)\u001b[0m\u001b[0;34m)\u001b[0m\u001b[0;34m\u001b[0m\u001b[0;34m\u001b[0m\u001b[0m\n\u001b[1;32m    267\u001b[0m \u001b[0;34m\u001b[0m\u001b[0m\n",
            "\u001b[0;32m/usr/local/lib/python3.6/dist-packages/pymystem3/mystem.py\u001b[0m in \u001b[0;36manalyze\u001b[0;34m(self, text)\u001b[0m\n\u001b[1;32m    248\u001b[0m         \u001b[0mresult\u001b[0m \u001b[0;34m=\u001b[0m \u001b[0;34m[\u001b[0m\u001b[0;34m]\u001b[0m\u001b[0;34m\u001b[0m\u001b[0;34m\u001b[0m\u001b[0m\n\u001b[1;32m    249\u001b[0m         \u001b[0;32mfor\u001b[0m \u001b[0mline\u001b[0m \u001b[0;32min\u001b[0m \u001b[0mtext\u001b[0m\u001b[0;34m.\u001b[0m\u001b[0msplitlines\u001b[0m\u001b[0;34m(\u001b[0m\u001b[0;34m)\u001b[0m\u001b[0;34m:\u001b[0m\u001b[0;34m\u001b[0m\u001b[0;34m\u001b[0m\u001b[0m\n\u001b[0;32m--> 250\u001b[0;31m             \u001b[0mresult\u001b[0m\u001b[0;34m.\u001b[0m\u001b[0mextend\u001b[0m\u001b[0;34m(\u001b[0m\u001b[0mself\u001b[0m\u001b[0;34m.\u001b[0m\u001b[0m_analyze_impl\u001b[0m\u001b[0;34m(\u001b[0m\u001b[0mline\u001b[0m\u001b[0;34m)\u001b[0m\u001b[0;34m)\u001b[0m\u001b[0;34m\u001b[0m\u001b[0;34m\u001b[0m\u001b[0m\n\u001b[0m\u001b[1;32m    251\u001b[0m         \u001b[0;32mreturn\u001b[0m \u001b[0mresult\u001b[0m\u001b[0;34m\u001b[0m\u001b[0;34m\u001b[0m\u001b[0m\n\u001b[1;32m    252\u001b[0m \u001b[0;34m\u001b[0m\u001b[0m\n",
            "\u001b[0;32m/usr/local/lib/python3.6/dist-packages/pymystem3/mystem.py\u001b[0m in \u001b[0;36m_analyze_impl\u001b[0;34m(self, text)\u001b[0m\n\u001b[1;32m    291\u001b[0m                     \u001b[0mout\u001b[0m \u001b[0;34m=\u001b[0m \u001b[0mself\u001b[0m\u001b[0;34m.\u001b[0m\u001b[0m_procout\u001b[0m\u001b[0;34m.\u001b[0m\u001b[0mread\u001b[0m\u001b[0;34m(\u001b[0m\u001b[0;34m)\u001b[0m\u001b[0;34m\u001b[0m\u001b[0;34m\u001b[0m\u001b[0m\n\u001b[1;32m    292\u001b[0m                     \u001b[0msio\u001b[0m\u001b[0;34m.\u001b[0m\u001b[0mwrite\u001b[0m\u001b[0;34m(\u001b[0m\u001b[0mout\u001b[0m\u001b[0;34m)\u001b[0m\u001b[0;34m\u001b[0m\u001b[0;34m\u001b[0m\u001b[0m\n\u001b[0;32m--> 293\u001b[0;31m                     \u001b[0mobj\u001b[0m \u001b[0;34m=\u001b[0m \u001b[0mjson\u001b[0m\u001b[0;34m.\u001b[0m\u001b[0mloads\u001b[0m\u001b[0;34m(\u001b[0m\u001b[0msio\u001b[0m\u001b[0;34m.\u001b[0m\u001b[0mgetvalue\u001b[0m\u001b[0;34m(\u001b[0m\u001b[0;34m)\u001b[0m\u001b[0;34m.\u001b[0m\u001b[0mdecode\u001b[0m\u001b[0;34m(\u001b[0m\u001b[0;34m'utf-8'\u001b[0m\u001b[0;34m)\u001b[0m\u001b[0;34m)\u001b[0m\u001b[0;34m\u001b[0m\u001b[0;34m\u001b[0m\u001b[0m\n\u001b[0m\u001b[1;32m    294\u001b[0m                     \u001b[0;32mbreak\u001b[0m\u001b[0;34m\u001b[0m\u001b[0;34m\u001b[0m\u001b[0m\n\u001b[1;32m    295\u001b[0m                 \u001b[0;32mexcept\u001b[0m \u001b[0;34m(\u001b[0m\u001b[0mIOError\u001b[0m\u001b[0;34m,\u001b[0m \u001b[0mValueError\u001b[0m\u001b[0;34m)\u001b[0m\u001b[0;34m:\u001b[0m\u001b[0;34m\u001b[0m\u001b[0;34m\u001b[0m\u001b[0m\n",
            "\u001b[0;32m/usr/lib/python3.6/json/__init__.py\u001b[0m in \u001b[0;36mloads\u001b[0;34m(s, encoding, cls, object_hook, parse_float, parse_int, parse_constant, object_pairs_hook, **kw)\u001b[0m\n\u001b[1;32m    352\u001b[0m             \u001b[0mparse_int\u001b[0m \u001b[0;32mis\u001b[0m \u001b[0;32mNone\u001b[0m \u001b[0;32mand\u001b[0m \u001b[0mparse_float\u001b[0m \u001b[0;32mis\u001b[0m \u001b[0;32mNone\u001b[0m \u001b[0;32mand\u001b[0m\u001b[0;34m\u001b[0m\u001b[0;34m\u001b[0m\u001b[0m\n\u001b[1;32m    353\u001b[0m             parse_constant is None and object_pairs_hook is None and not kw):\n\u001b[0;32m--> 354\u001b[0;31m         \u001b[0;32mreturn\u001b[0m \u001b[0m_default_decoder\u001b[0m\u001b[0;34m.\u001b[0m\u001b[0mdecode\u001b[0m\u001b[0;34m(\u001b[0m\u001b[0ms\u001b[0m\u001b[0;34m)\u001b[0m\u001b[0;34m\u001b[0m\u001b[0;34m\u001b[0m\u001b[0m\n\u001b[0m\u001b[1;32m    355\u001b[0m     \u001b[0;32mif\u001b[0m \u001b[0mcls\u001b[0m \u001b[0;32mis\u001b[0m \u001b[0;32mNone\u001b[0m\u001b[0;34m:\u001b[0m\u001b[0;34m\u001b[0m\u001b[0;34m\u001b[0m\u001b[0m\n\u001b[1;32m    356\u001b[0m         \u001b[0mcls\u001b[0m \u001b[0;34m=\u001b[0m \u001b[0mJSONDecoder\u001b[0m\u001b[0;34m\u001b[0m\u001b[0;34m\u001b[0m\u001b[0m\n",
            "\u001b[0;32m/usr/lib/python3.6/json/decoder.py\u001b[0m in \u001b[0;36mdecode\u001b[0;34m(self, s, _w)\u001b[0m\n\u001b[1;32m    337\u001b[0m \u001b[0;34m\u001b[0m\u001b[0m\n\u001b[1;32m    338\u001b[0m         \"\"\"\n\u001b[0;32m--> 339\u001b[0;31m         \u001b[0mobj\u001b[0m\u001b[0;34m,\u001b[0m \u001b[0mend\u001b[0m \u001b[0;34m=\u001b[0m \u001b[0mself\u001b[0m\u001b[0;34m.\u001b[0m\u001b[0mraw_decode\u001b[0m\u001b[0;34m(\u001b[0m\u001b[0ms\u001b[0m\u001b[0;34m,\u001b[0m \u001b[0midx\u001b[0m\u001b[0;34m=\u001b[0m\u001b[0m_w\u001b[0m\u001b[0;34m(\u001b[0m\u001b[0ms\u001b[0m\u001b[0;34m,\u001b[0m \u001b[0;36m0\u001b[0m\u001b[0;34m)\u001b[0m\u001b[0;34m.\u001b[0m\u001b[0mend\u001b[0m\u001b[0;34m(\u001b[0m\u001b[0;34m)\u001b[0m\u001b[0;34m)\u001b[0m\u001b[0;34m\u001b[0m\u001b[0;34m\u001b[0m\u001b[0m\n\u001b[0m\u001b[1;32m    340\u001b[0m         \u001b[0mend\u001b[0m \u001b[0;34m=\u001b[0m \u001b[0m_w\u001b[0m\u001b[0;34m(\u001b[0m\u001b[0ms\u001b[0m\u001b[0;34m,\u001b[0m \u001b[0mend\u001b[0m\u001b[0;34m)\u001b[0m\u001b[0;34m.\u001b[0m\u001b[0mend\u001b[0m\u001b[0;34m(\u001b[0m\u001b[0;34m)\u001b[0m\u001b[0;34m\u001b[0m\u001b[0;34m\u001b[0m\u001b[0m\n\u001b[1;32m    341\u001b[0m         \u001b[0;32mif\u001b[0m \u001b[0mend\u001b[0m \u001b[0;34m!=\u001b[0m \u001b[0mlen\u001b[0m\u001b[0;34m(\u001b[0m\u001b[0ms\u001b[0m\u001b[0;34m)\u001b[0m\u001b[0;34m:\u001b[0m\u001b[0;34m\u001b[0m\u001b[0;34m\u001b[0m\u001b[0m\n",
            "\u001b[0;32m/usr/lib/python3.6/json/decoder.py\u001b[0m in \u001b[0;36mraw_decode\u001b[0;34m(self, s, idx)\u001b[0m\n\u001b[1;32m    355\u001b[0m             \u001b[0mobj\u001b[0m\u001b[0;34m,\u001b[0m \u001b[0mend\u001b[0m \u001b[0;34m=\u001b[0m \u001b[0mself\u001b[0m\u001b[0;34m.\u001b[0m\u001b[0mscan_once\u001b[0m\u001b[0;34m(\u001b[0m\u001b[0ms\u001b[0m\u001b[0;34m,\u001b[0m \u001b[0midx\u001b[0m\u001b[0;34m)\u001b[0m\u001b[0;34m\u001b[0m\u001b[0;34m\u001b[0m\u001b[0m\n\u001b[1;32m    356\u001b[0m         \u001b[0;32mexcept\u001b[0m \u001b[0mStopIteration\u001b[0m \u001b[0;32mas\u001b[0m \u001b[0merr\u001b[0m\u001b[0;34m:\u001b[0m\u001b[0;34m\u001b[0m\u001b[0;34m\u001b[0m\u001b[0m\n\u001b[0;32m--> 357\u001b[0;31m             \u001b[0;32mraise\u001b[0m \u001b[0mJSONDecodeError\u001b[0m\u001b[0;34m(\u001b[0m\u001b[0;34m\"Expecting value\"\u001b[0m\u001b[0;34m,\u001b[0m \u001b[0ms\u001b[0m\u001b[0;34m,\u001b[0m \u001b[0merr\u001b[0m\u001b[0;34m.\u001b[0m\u001b[0mvalue\u001b[0m\u001b[0;34m)\u001b[0m \u001b[0;32mfrom\u001b[0m \u001b[0;32mNone\u001b[0m\u001b[0;34m\u001b[0m\u001b[0;34m\u001b[0m\u001b[0m\n\u001b[0m\u001b[1;32m    358\u001b[0m         \u001b[0;32mreturn\u001b[0m \u001b[0mobj\u001b[0m\u001b[0;34m,\u001b[0m \u001b[0mend\u001b[0m\u001b[0;34m\u001b[0m\u001b[0;34m\u001b[0m\u001b[0m\n",
            "\u001b[0;32m/usr/lib/python3.6/json/decoder.py\u001b[0m in \u001b[0;36m__init__\u001b[0;34m(self, msg, doc, pos)\u001b[0m\n\u001b[1;32m     32\u001b[0m         \u001b[0mlineno\u001b[0m \u001b[0;34m=\u001b[0m \u001b[0mdoc\u001b[0m\u001b[0;34m.\u001b[0m\u001b[0mcount\u001b[0m\u001b[0;34m(\u001b[0m\u001b[0;34m'\\n'\u001b[0m\u001b[0;34m,\u001b[0m \u001b[0;36m0\u001b[0m\u001b[0;34m,\u001b[0m \u001b[0mpos\u001b[0m\u001b[0;34m)\u001b[0m \u001b[0;34m+\u001b[0m \u001b[0;36m1\u001b[0m\u001b[0;34m\u001b[0m\u001b[0;34m\u001b[0m\u001b[0m\n\u001b[1;32m     33\u001b[0m         \u001b[0mcolno\u001b[0m \u001b[0;34m=\u001b[0m \u001b[0mpos\u001b[0m \u001b[0;34m-\u001b[0m \u001b[0mdoc\u001b[0m\u001b[0;34m.\u001b[0m\u001b[0mrfind\u001b[0m\u001b[0;34m(\u001b[0m\u001b[0;34m'\\n'\u001b[0m\u001b[0;34m,\u001b[0m \u001b[0;36m0\u001b[0m\u001b[0;34m,\u001b[0m \u001b[0mpos\u001b[0m\u001b[0;34m)\u001b[0m\u001b[0;34m\u001b[0m\u001b[0;34m\u001b[0m\u001b[0m\n\u001b[0;32m---> 34\u001b[0;31m         \u001b[0merrmsg\u001b[0m \u001b[0;34m=\u001b[0m \u001b[0;34m'%s: line %d column %d (char %d)'\u001b[0m \u001b[0;34m%\u001b[0m \u001b[0;34m(\u001b[0m\u001b[0mmsg\u001b[0m\u001b[0;34m,\u001b[0m \u001b[0mlineno\u001b[0m\u001b[0;34m,\u001b[0m \u001b[0mcolno\u001b[0m\u001b[0;34m,\u001b[0m \u001b[0mpos\u001b[0m\u001b[0;34m)\u001b[0m\u001b[0;34m\u001b[0m\u001b[0;34m\u001b[0m\u001b[0m\n\u001b[0m\u001b[1;32m     35\u001b[0m         \u001b[0mValueError\u001b[0m\u001b[0;34m.\u001b[0m\u001b[0m__init__\u001b[0m\u001b[0;34m(\u001b[0m\u001b[0mself\u001b[0m\u001b[0;34m,\u001b[0m \u001b[0merrmsg\u001b[0m\u001b[0;34m)\u001b[0m\u001b[0;34m\u001b[0m\u001b[0;34m\u001b[0m\u001b[0m\n\u001b[1;32m     36\u001b[0m         \u001b[0mself\u001b[0m\u001b[0;34m.\u001b[0m\u001b[0mmsg\u001b[0m \u001b[0;34m=\u001b[0m \u001b[0mmsg\u001b[0m\u001b[0;34m\u001b[0m\u001b[0;34m\u001b[0m\u001b[0m\n",
            "\u001b[0;31mKeyboardInterrupt\u001b[0m: "
          ]
        }
      ]
    },
    {
      "cell_type": "code",
      "metadata": {
        "colab": {
          "base_uri": "https://localhost:8080/",
          "height": 387
        },
        "id": "rfeeuCcspo4y",
        "outputId": "dfa30bdd-ee2a-4b17-c203-592cfa98dbf5"
      },
      "source": [
        ""
      ],
      "execution_count": null,
      "outputs": [
        {
          "output_type": "stream",
          "text": [
            "Go to this URL in a browser: https://accounts.google.com/o/oauth2/auth?client_id=947318989803-6bn6qk8qdgf4n4g3pfee6491hc0brc4i.apps.googleusercontent.com&redirect_uri=urn%3aietf%3awg%3aoauth%3a2.0%3aoob&scope=email%20https%3a%2f%2fwww.googleapis.com%2fauth%2fdocs.test%20https%3a%2f%2fwww.googleapis.com%2fauth%2fdrive%20https%3a%2f%2fwww.googleapis.com%2fauth%2fdrive.photos.readonly%20https%3a%2f%2fwww.googleapis.com%2fauth%2fpeopleapi.readonly%20https%3a%2f%2fwww.googleapis.com%2fauth%2fdrive.activity.readonly&response_type=code\n",
            "\n",
            "Enter your authorization code:\n",
            "228916\n"
          ],
          "name": "stdout"
        },
        {
          "output_type": "error",
          "ename": "ValueError",
          "evalue": "ignored",
          "traceback": [
            "\u001b[0;31m---------------------------------------------------------------------------\u001b[0m",
            "\u001b[0;31mValueError\u001b[0m                                Traceback (most recent call last)",
            "\u001b[0;32m<ipython-input-37-d5df0069828e>\u001b[0m in \u001b[0;36m<module>\u001b[0;34m()\u001b[0m\n\u001b[1;32m      1\u001b[0m \u001b[0;32mfrom\u001b[0m \u001b[0mgoogle\u001b[0m\u001b[0;34m.\u001b[0m\u001b[0mcolab\u001b[0m \u001b[0;32mimport\u001b[0m \u001b[0mdrive\u001b[0m\u001b[0;34m\u001b[0m\u001b[0;34m\u001b[0m\u001b[0m\n\u001b[0;32m----> 2\u001b[0;31m \u001b[0mdrive\u001b[0m\u001b[0;34m.\u001b[0m\u001b[0mmount\u001b[0m\u001b[0;34m(\u001b[0m\u001b[0;34m'/content/drive'\u001b[0m\u001b[0;34m)\u001b[0m\u001b[0;34m\u001b[0m\u001b[0;34m\u001b[0m\u001b[0m\n\u001b[0m",
            "\u001b[0;32m/usr/local/lib/python3.6/dist-packages/google/colab/drive.py\u001b[0m in \u001b[0;36mmount\u001b[0;34m(mountpoint, force_remount, timeout_ms, use_metadata_server)\u001b[0m\n\u001b[1;32m    263\u001b[0m       \u001b[0mwrote_to_fifo\u001b[0m \u001b[0;34m=\u001b[0m \u001b[0;32mTrue\u001b[0m\u001b[0;34m\u001b[0m\u001b[0;34m\u001b[0m\u001b[0m\n\u001b[1;32m    264\u001b[0m     \u001b[0;32melif\u001b[0m \u001b[0mcase\u001b[0m \u001b[0;34m==\u001b[0m \u001b[0;36m5\u001b[0m\u001b[0;34m:\u001b[0m\u001b[0;34m\u001b[0m\u001b[0;34m\u001b[0m\u001b[0m\n\u001b[0;32m--> 265\u001b[0;31m       \u001b[0;32mraise\u001b[0m \u001b[0mValueError\u001b[0m\u001b[0;34m(\u001b[0m\u001b[0;34m'mount failed: invalid oauth code'\u001b[0m\u001b[0;34m)\u001b[0m\u001b[0;34m\u001b[0m\u001b[0;34m\u001b[0m\u001b[0m\n\u001b[0m\u001b[1;32m    266\u001b[0m     \u001b[0;32melif\u001b[0m \u001b[0mcase\u001b[0m \u001b[0;34m==\u001b[0m \u001b[0;36m6\u001b[0m\u001b[0;34m:\u001b[0m\u001b[0;34m\u001b[0m\u001b[0;34m\u001b[0m\u001b[0m\n\u001b[1;32m    267\u001b[0m       raise ValueError(\n",
            "\u001b[0;31mValueError\u001b[0m: mount failed: invalid oauth code"
          ]
        }
      ]
    },
    {
      "cell_type": "markdown",
      "metadata": {
        "id": "wHl4WQbbsN1P"
      },
      "source": [
        "<div style=\"border:solid green 2px; padding: 20px\"> <h1 style=\"color:green; margin-bottom:20px\">Комментарий ревьюера</h1>\n",
        "Отлично, использование counter - это правильно, список целей получен обосновано\n",
        "</div>"
      ]
    },
    {
      "cell_type": "code",
      "metadata": {
        "id": "E7NemYD5sN1P"
      },
      "source": [
        "#Состаавляем функцию для дальнейшей обратобки с помощью ключевых слов\n",
        "def purpose_category(lemmas):\n",
        "    if 'свадьба' in lemmas:\n",
        "        return 'Займ на свадьбу'\n",
        "    if ('жилье' in lemmas) or ('недвижимость' in lemmas):\n",
        "        return 'Займ на покупку недвижимости'\n",
        "    if 'автомобиль' in lemmas:\n",
        "        return 'Займ на покупку автомобиля'\n",
        "    if 'образование' in lemmas:\n",
        "        return 'Займ на образование'\n",
        "    \n",
        "data['purpose'] = data['purpose_lemma'].apply(purpose_category)#Заполняем цели изменнеными данными\n",
        "purpose_counts = data['purpose'].value_counts()#Проверяем количество измененных данных \n",
        "purpose_counts"
      ],
      "execution_count": null,
      "outputs": []
    },
    {
      "cell_type": "code",
      "metadata": {
        "id": "e2R-aThZsN1P"
      },
      "source": [
        "data.head(10)#Смотрим как выглядят данный после всех обработок"
      ],
      "execution_count": null,
      "outputs": []
    },
    {
      "cell_type": "markdown",
      "metadata": {
        "id": "A0I4DyVHsN1P"
      },
      "source": [
        "### Вывод"
      ]
    },
    {
      "cell_type": "markdown",
      "metadata": {
        "id": "-mfazeSesN1Q"
      },
      "source": [
        "В данных присутсвуют множестенные цели займа, но общим смыслом его получения. С помощью лемматизации по ключевым словам этих целей привели эти записи к единому виду для удобства дальнейшего анализа.\n",
        "\n",
        "<div style=\"border:solid green 2px; padding: 20px\"> <h1 style=\"color:green; margin-bottom:20px\">Комментарий ревьюера</h1>\n",
        "Отлично, лемматизация выполнена верно. Молодец, что разобрался с этой не простой темой\n",
        "</div>"
      ]
    },
    {
      "cell_type": "markdown",
      "metadata": {
        "id": "_FGLtTaLsN1Q"
      },
      "source": [
        "### [Содержание](#step0) "
      ]
    },
    {
      "cell_type": "markdown",
      "metadata": {
        "id": "qgegRogfsN1Q"
      },
      "source": [
        "### Категоризируем данные <a id=\"step7\"></a>"
      ]
    },
    {
      "cell_type": "code",
      "metadata": {
        "id": "nP-7DtFasN1Q"
      },
      "source": [
        "#Делаем промежуточную таблицу с выборкой по количеству детей и задожностью по кредиту\n",
        "children_rezult = data.pivot_table(index = 'children', columns = 'debt', values = 'dob_years', \n",
        "                                   aggfunc = 'count', fill_value= 0)\n",
        "children_rezult.columns = ['Выплачивают вовремя', 'Задерживают выплаты']\n",
        "children_rezult = children_rezult.astype('int64')\n",
        "\n",
        "children_rezult['Доля должников'] = (children_rezult['Задерживают выплаты']/\n",
        "                                (children_rezult['Задерживают выплаты'] \n",
        "                                 + children_rezult['Выплачивают вовремя'])).map('{:.2%}'.format)"
      ],
      "execution_count": null,
      "outputs": []
    },
    {
      "cell_type": "code",
      "metadata": {
        "id": "ferXMaxmsN1Q"
      },
      "source": [
        "#Делаем промежуточную таблицу с выборкой по семейному положению и задожностью по кредиту\n",
        "family_status_rezult = data.pivot_table(index = 'family_status', columns = 'debt', values = 'dob_years', \n",
        "                                        aggfunc = 'count', fill_value= 0)\n",
        "family_status_rezult.columns = ['Выплачивают вовремя', 'Задерживают выплаты']\n",
        "family_status_rezult = family_status_rezult.astype('int64')\n",
        "\n",
        "family_status_rezult['Доля должников'] = (family_status_rezult['Задерживают выплаты']/\n",
        "                                (family_status_rezult['Задерживают выплаты'] \n",
        "                                 + family_status_rezult['Выплачивают вовремя'])).map('{:.2%}'.format)"
      ],
      "execution_count": null,
      "outputs": []
    },
    {
      "cell_type": "code",
      "metadata": {
        "id": "7Vb3rleUsN1R"
      },
      "source": [
        "#Делаем промежуточный столбец таблицы с категориями по уровню дохода\n",
        "def sort_total_income(income):\n",
        "    if income < data['total_income'].quantile(0.25):\n",
        "        return 'Минимальный доход'\n",
        "    if income < data['total_income'].quantile(0.50):\n",
        "        return 'Средний доход'\n",
        "    if income < data['total_income'].quantile(0.75):\n",
        "        return 'Повышеный доход'\n",
        "    return 'Высокий доход'\n",
        "#добавляем в таблицу столбец с категориями по доходам\n",
        "data['true_income'] = data['total_income'].apply(sort_total_income)\n",
        "true_income_counts = data['true_income'].value_counts()\n",
        "true_income_counts"
      ],
      "execution_count": null,
      "outputs": []
    },
    {
      "cell_type": "code",
      "metadata": {
        "id": "j5Lx-rhMsN1R"
      },
      "source": [
        "#Делаем промежуточную таблицу с выборкой по уровню дохода и задожностью по кредиту\n",
        "total_income_rezult = data.pivot_table(index = 'true_income', columns = 'debt', values = 'dob_years', \n",
        "                                       aggfunc = 'count', fill_value= 0)\n",
        "total_income_rezult.columns = ['Выплачивают вовремя', 'Задерживают выплаты']\n",
        "total_income_rezult = total_income_rezult.astype('int64')\n",
        "\n",
        "total_income_rezult['Доля должников'] = (total_income_rezult['Задерживают выплаты']/\n",
        "                                (total_income_rezult['Задерживают выплаты'] \n",
        "                                 + total_income_rezult['Выплачивают вовремя'])).map('{:.2%}'.format)"
      ],
      "execution_count": null,
      "outputs": []
    },
    {
      "cell_type": "code",
      "metadata": {
        "id": "77lRoLkgsN1R"
      },
      "source": [
        "#Делаем промежуточную таблицу с выборкой по цели займа и задожностью по кредиту\n",
        "purpose_rezult = data.pivot_table(index = 'purpose', columns = 'debt', values = 'dob_years', \n",
        "                                  aggfunc = 'count', fill_value= 0)\n",
        "purpose_rezult.columns = ['Выплачивают вовремя', 'Задерживают выплаты']\n",
        "purpose_rezult = purpose_rezult.astype('int64')\n",
        "\n",
        "purpose_rezult['Доля должников'] = (purpose_rezult['Задерживают выплаты']/\n",
        "                                (purpose_rezult['Задерживают выплаты'] \n",
        "                                 + purpose_rezult['Выплачивают вовремя'])).map('{:.2%}'.format)"
      ],
      "execution_count": null,
      "outputs": []
    },
    {
      "cell_type": "code",
      "metadata": {
        "id": "JdhYx6e7sN1R"
      },
      "source": [
        "#Делаем промежуточную таблицу с выборкой по всем целям задания и задожностью по кредиту\n",
        "#При желании можем комбинировать нужные нам категории для анализа\n",
        "final_rezult = data.pivot_table(index = ['children', 'family_status', 'true_income', 'purpose'], \n",
        "                                columns = 'debt', values = 'dob_years', aggfunc = 'count', fill_value= 0)\n",
        "final_rezult.columns = ['Выплачивают вовремя', 'Задерживают выплаты']\n",
        "final_rezult = final_rezult.astype('int64')\n",
        "\n",
        "final_rezult['Доля должников'] = (final_rezult['Задерживают выплаты']/\n",
        "                                (final_rezult['Задерживают выплаты'] \n",
        "                                 + final_rezult['Выплачивают вовремя'])).map('{:.2%}'.format)"
      ],
      "execution_count": null,
      "outputs": []
    },
    {
      "cell_type": "markdown",
      "metadata": {
        "id": "OQZ5Kyj5sN1S"
      },
      "source": [
        "### Вывод"
      ]
    },
    {
      "cell_type": "markdown",
      "metadata": {
        "id": "8trbYYT_sN1S"
      },
      "source": [
        "Создали промежуточные таблицы для дальнейшего изучения интересующих нас категорий заёмщиков.\n",
        "\n",
        "<div style=\"border:solid red 2px; padding: 20px\"> <h1 style=\"color:red; margin-bottom:20px\">Комментарий ревьюера</h1>\n",
        "Ой, нет вот так делать не надо. Создавать под каждый вопрос два набора - это оооочень ресурсозатратно.\n",
        "    \n",
        "    \n",
        "В категоризации нужно выделить просто категории по целям - ты это сделал в предыдущем разделе, по уровню дохода - ты верно написал функцию и возможно по количеству детей.\n",
        "    \n",
        "В вот рассчеты нужно делать с использованием сводных таблиц и все нужно получить из основного набора\n",
        "    \n",
        "<div style=\"border:solid blue 2px; padding: 14px\"> <h1 style=\"color:blue; margin-bottom:14px\">Комментарий студента-аналитика</h1>\n",
        "Согласен, было сделано через одно место. На тот момент соображал уже туго, поэтому сделал как пришло в голову.\n",
        "Исправил всё по нормальному, плюс добавил сводную категоризацию по всем нужных параметрам.\n",
        "   \n",
        "</div>"
      ]
    },
    {
      "cell_type": "markdown",
      "metadata": {
        "id": "A1NHVP9AsN1S"
      },
      "source": [
        "<div style=\"border:solid green 2px; padding: 20px\"> <h1 style=\"color:green; margin-bottom:20px\">Комментарий ревьюера - 2</h1>\n",
        " \n",
        "Отлично, теперь все верно, молодец, что разобрался.\n",
        "</div>"
      ]
    },
    {
      "cell_type": "markdown",
      "metadata": {
        "id": "R1uzs_1bsN1S"
      },
      "source": [
        "### [Содержание](#step0) "
      ]
    },
    {
      "cell_type": "markdown",
      "metadata": {
        "id": "x8ZuIGxAsN1S"
      },
      "source": [
        "### Шаг 3. Проанализируем интересующие нас данные и ответим на вопросы <a id=\"step8\"></a>"
      ]
    },
    {
      "cell_type": "markdown",
      "metadata": {
        "id": "lm3vEy6JsN1S"
      },
      "source": [
        "- Есть ли зависимость между наличием детей и возвратом кредита в срок?"
      ]
    },
    {
      "cell_type": "code",
      "metadata": {
        "id": "sVNp-ypZsN1S"
      },
      "source": [
        "children_rezult#Изучим связь задержки выплат кредита с количеством детей"
      ],
      "execution_count": null,
      "outputs": []
    },
    {
      "cell_type": "markdown",
      "metadata": {
        "id": "ZVm2y4xfsN1S"
      },
      "source": [
        "### Вывод"
      ]
    },
    {
      "cell_type": "markdown",
      "metadata": {
        "id": "LbJ-67susN1T"
      },
      "source": [
        "Удивительно, но заёмщики с 5 детьми самые ответственые, задержек выплат нет.\n",
        "Заёмщики с 1, 2 и 4 детьми задерживают выплаты в среднем 9.5%.\n",
        "Заёмщики с 3 детьми задерживают выплаты в среднем 8.2%.\n",
        "Заёмщики без детей задерживаю выплаты меньше остальных, примерно 7,5%"
      ]
    },
    {
      "cell_type": "markdown",
      "metadata": {
        "id": "GsOjluhwsN1T"
      },
      "source": [
        "- Есть ли зависимость между семейным положением и возвратом кредита в срок?"
      ]
    },
    {
      "cell_type": "code",
      "metadata": {
        "id": "6KMunOZWsN1T"
      },
      "source": [
        "family_status_rezult#Изучим связь задержки выплат кредита с семейным статусом заёмщика"
      ],
      "execution_count": null,
      "outputs": []
    },
    {
      "cell_type": "markdown",
      "metadata": {
        "id": "pJLkmHzYsN1T"
      },
      "source": [
        "### Вывод"
      ]
    },
    {
      "cell_type": "markdown",
      "metadata": {
        "id": "6NBKsE0esN1T"
      },
      "source": [
        "Самые не надёжные заемщики, это люди не бывшие в семейных отношениях и живущие без регистрации брака, более 9%. Думаю из-за того, что нету связанной финансово второй половины семьи. Чуть меньше задержек выплат у семейных и разведенных заёмщиков. Эти люди более рационально планируют свои расходы. Люди, потерявшие часть своей семьи, более отвественны."
      ]
    },
    {
      "cell_type": "markdown",
      "metadata": {
        "id": "pAeDF8htsN1T"
      },
      "source": [
        "- Есть ли зависимость между уровнем дохода и возвратом кредита в срок?"
      ]
    },
    {
      "cell_type": "code",
      "metadata": {
        "id": "314JjWdEsN1T"
      },
      "source": [
        "total_income_rezult#Изучим связь задержки выплат кредита с уровнем дохода"
      ],
      "execution_count": null,
      "outputs": []
    },
    {
      "cell_type": "markdown",
      "metadata": {
        "id": "K8j8sY79sN1U"
      },
      "source": [
        "### Вывод"
      ]
    },
    {
      "cell_type": "markdown",
      "metadata": {
        "id": "hP0Y8XldsN1U"
      },
      "source": [
        "Как мы заметили из таблицы самые ненадежные заёмщики, это люди со средним и повышеным доходом, в среднем 8.7% задерживают платежи . Удивительно, но заёмщики с высоким доходом так же задерживаю платежи, 7.1%. Заёмщики с минимальным доходом по количеству задержек занимают середину, около 8%."
      ]
    },
    {
      "cell_type": "markdown",
      "metadata": {
        "id": "xWaQVHQNsN1U"
      },
      "source": [
        "- Как разные цели кредита влияют на его возврат в срок?"
      ]
    },
    {
      "cell_type": "code",
      "metadata": {
        "id": "uGnZ0fkFsN1U"
      },
      "source": [
        "purpose_rezult#Изучим связь задержки выплат кредита с целью займа"
      ],
      "execution_count": null,
      "outputs": []
    },
    {
      "cell_type": "markdown",
      "metadata": {
        "id": "o_-YHnMosN1U"
      },
      "source": [
        "### Вывод"
      ]
    },
    {
      "cell_type": "markdown",
      "metadata": {
        "id": "ZuFFHvrnsN1U"
      },
      "source": [
        "Больше всего задолжников в займах на автомобиль. Думаю, так как он взят в кредит, приобрели модель подороже и не расчитали возможность выплачивать повышеный платеж. В займах на образование задержки скорее всего связаны с самим образованием. Люди, которые учаться, подрабатывают. Или они учаться заочно, и на время заочной учёбы у них просадка по ЗП. Займ на свадьбу чуть надежней, но все равно процент задержек платежей 8%. Самый выгодный для финансовой организации займ на недвижимость, здесь меньше всего процент задержки. Наверное покупка недвижимости самый обдуманный вид займа.\n",
        "\n",
        "<div style=\"border:solid green 2px; padding: 20px\"> <h1 style=\"color:green; margin-bottom:20px\">Комментарий ревьюера</h1>\n",
        "Ок, подход правильный, но реулизация не верная. Пересмотри техически рассчет вероятности невозврата\n",
        "</div>"
      ]
    },
    {
      "cell_type": "markdown",
      "metadata": {
        "id": "vBfGTlRfsN1U"
      },
      "source": [
        "- Выведем сводную таблицу по всем четырём категориям и изучим её"
      ]
    },
    {
      "cell_type": "code",
      "metadata": {
        "id": "oJzG8ttTsN1V"
      },
      "source": [
        "#Для более детального анализа можем изучить сводную таблицу по всем четырём категориям задания\n",
        "with pd.option_context('display.max_rows', None, 'display.max_columns', None):\n",
        "    display(final_rezult)"
      ],
      "execution_count": null,
      "outputs": []
    },
    {
      "cell_type": "markdown",
      "metadata": {
        "id": "QFR9pdHYsN1V"
      },
      "source": [
        "### [Содержание](#step0) "
      ]
    },
    {
      "cell_type": "markdown",
      "metadata": {
        "id": "w5iSXfk7sN1V"
      },
      "source": [
        "### Шаг 4. Общий вывод <a id=\"step9\"></a>"
      ]
    },
    {
      "cell_type": "markdown",
      "metadata": {
        "id": "3XRjLV2LsN1V"
      },
      "source": [
        "1. В любой категории заёмщиков есть должники. На задержку выплат оказывает влияние наличие детей, их наличие негативно отражается на выплатах, в среднем около 9%. Есть исключение - это заёмщики с 5 детьми. Они выплючиват вовремя, но так как таких заёмщиков минимально, всего 9, в общий расчет их не стоит принимать. \n",
        "2. Вызывают опасения не семейные заёмщики, более 9% задержек платежей. Семейные и в разводе на 1.5% меньше задерживают выплаты.\n",
        "3. Не зависимо от дохода, всё равно есть задерживающие платежи. При этом, заёмщики с высоким и минимальным доходом более отвественны, менее 8% задедерживающих платежи. Среди заёмщиков со средним и повышенным доходом задерживаюх плетежи уже 8.7%.\n",
        "4. Самые рискованные категории займов , это займы на автомобиль и образование, более 9%, Следующие, это молодожёны, их среди должников 8%. Займы на недвижимость самые популяные, среди них должников меньше всего, 7.2%.\n",
        "\n",
        "<div style=\"border:solid green 2px; padding: 20px\"> <h1 style=\"color:green; margin-bottom:20px\">Общий комментарий по проекту</h1>\n",
        "\n",
        "Ты хорошо поработал над проектом, молодец. Сам анализ правильный, немного рапутался с методом рассчета, но это поправимо.\n",
        "    \n",
        "Ты отлично работаешь с данными и уже освоил много полезных методов, здорово. \n",
        "    \n",
        "В целом ты молодец, отлично справляешься с программой, критических замечаний по проекту нет. Только постарайся делать именно рассказ по данным, связный рассказ с итогами и выводами. \n",
        "    \n",
        "Жду улучшенный вариант проекта. Удачи\n",
        "</div>"
      ]
    },
    {
      "cell_type": "markdown",
      "metadata": {
        "id": "TL01MJi9sN1V"
      },
      "source": [
        "<div style=\"border:solid green 2px; padding: 20px\"> <h1 style=\"color:green; margin-bottom:20px\">Комментарий ревьюера - 2</h1>\n",
        " \n",
        "Проект отлично доработан, молодец.\n",
        "</div>"
      ]
    },
    {
      "cell_type": "markdown",
      "metadata": {
        "id": "bt3nZBlDsN1W"
      },
      "source": [
        "### [Содержание](#step0) "
      ]
    },
    {
      "cell_type": "markdown",
      "metadata": {
        "id": "dlAKsu5ysN1W"
      },
      "source": [
        "### Чек-лист готовности проекта\n",
        "\n",
        "Поставьте 'x' в выполненных пунктах. Далее нажмите Shift+Enter."
      ]
    },
    {
      "cell_type": "markdown",
      "metadata": {
        "id": "NlVy0LJNsN1W"
      },
      "source": [
        "- [x]  открыт файл;\n",
        "- [x]  файл изучен;\n",
        "- [x]  определены пропущенные значения;\n",
        "- [x]  заполнены пропущенные значения;\n",
        "- [x]  есть пояснение, какие пропущенные значения обнаружены;\n",
        "- [x]  описаны возможные причины появления пропусков в данных;\n",
        "- [x]  объяснено, по какому принципу заполнены пропуски;\n",
        "- [x]  заменен вещественный тип данных на целочисленный;\n",
        "- [x]  есть пояснение, какой метод используется для изменения типа данных и почему;\n",
        "- [x]  удалены дубликаты;\n",
        "- [x]  есть пояснение, какой метод используется для поиска и удаления дубликатов;\n",
        "- [x]  описаны возможные причины появления дубликатов в данных;\n",
        "- [x]  выделены леммы в значениях столбца с целями получения кредита;\n",
        "- [x]  описан процесс лемматизации;\n",
        "- [x]  данные категоризированы;\n",
        "- [x]  есть объяснение принципа категоризации данных;\n",
        "- [x]  есть ответ на вопрос: \"Есть ли зависимость между наличием детей и возвратом кредита в срок?\";\n",
        "- [x]  есть ответ на вопрос: \"Есть ли зависимость между семейным положением и возвратом кредита в срок?\";\n",
        "- [x]  есть ответ на вопрос: \"Есть ли зависимость между уровнем дохода и возвратом кредита в срок?\";\n",
        "- [x]  есть ответ на вопрос: \"Как разные цели кредита влияют на его возврат в срок?\";\n",
        "- [x]  в каждом этапе есть выводы;\n",
        "- [x]  есть общий вывод."
      ]
    }
  ]
}